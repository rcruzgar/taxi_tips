{
  "nbformat": 4,
  "nbformat_minor": 0,
  "metadata": {
    "colab": {
      "name": "Data_Exploration_and_Cleaning.ipynb",
      "provenance": [],
      "collapsed_sections": [],
      "machine_shape": "hm"
    },
    "kernelspec": {
      "name": "python3",
      "display_name": "Python 3"
    },
    "accelerator": "GPU",
    "widgets": {
      "application/vnd.jupyter.widget-state+json": {
        "4f51594dc82a4a22812ce43c40d64259": {
          "model_module": "@jupyter-widgets/controls",
          "model_name": "HBoxModel",
          "state": {
            "_view_name": "HBoxView",
            "_dom_classes": [],
            "_model_name": "HBoxModel",
            "_view_module": "@jupyter-widgets/controls",
            "_model_module_version": "1.5.0",
            "_view_count": null,
            "_view_module_version": "1.5.0",
            "box_style": "",
            "layout": "IPY_MODEL_b085b17fd1a6478dbc94000f1e499e65",
            "_model_module": "@jupyter-widgets/controls",
            "children": [
              "IPY_MODEL_1e22db90778a4c50a43211205a184ae6",
              "IPY_MODEL_4b22281decf64447bbc7590de021bf81"
            ]
          }
        },
        "b085b17fd1a6478dbc94000f1e499e65": {
          "model_module": "@jupyter-widgets/base",
          "model_name": "LayoutModel",
          "state": {
            "_view_name": "LayoutView",
            "grid_template_rows": null,
            "right": null,
            "justify_content": null,
            "_view_module": "@jupyter-widgets/base",
            "overflow": null,
            "_model_module_version": "1.2.0",
            "_view_count": null,
            "flex_flow": null,
            "width": null,
            "min_width": null,
            "border": null,
            "align_items": null,
            "bottom": null,
            "_model_module": "@jupyter-widgets/base",
            "top": null,
            "grid_column": null,
            "overflow_y": null,
            "overflow_x": null,
            "grid_auto_flow": null,
            "grid_area": null,
            "grid_template_columns": null,
            "flex": null,
            "_model_name": "LayoutModel",
            "justify_items": null,
            "grid_row": null,
            "max_height": null,
            "align_content": null,
            "visibility": null,
            "align_self": null,
            "height": null,
            "min_height": null,
            "padding": null,
            "grid_auto_rows": null,
            "grid_gap": null,
            "max_width": null,
            "order": null,
            "_view_module_version": "1.2.0",
            "grid_template_areas": null,
            "object_position": null,
            "object_fit": null,
            "grid_auto_columns": null,
            "margin": null,
            "display": null,
            "left": null
          }
        },
        "1e22db90778a4c50a43211205a184ae6": {
          "model_module": "@jupyter-widgets/controls",
          "model_name": "FloatProgressModel",
          "state": {
            "_view_name": "ProgressView",
            "style": "IPY_MODEL_1ec33bd1006e451b95a37d9ded25d260",
            "_dom_classes": [],
            "description": "Summarize dataset: 100%",
            "_model_name": "FloatProgressModel",
            "bar_style": "success",
            "max": 27,
            "_view_module": "@jupyter-widgets/controls",
            "_model_module_version": "1.5.0",
            "value": 27,
            "_view_count": null,
            "_view_module_version": "1.5.0",
            "orientation": "horizontal",
            "min": 0,
            "description_tooltip": null,
            "_model_module": "@jupyter-widgets/controls",
            "layout": "IPY_MODEL_9d31ba1c7edf4141bbffeeee2f8a475c"
          }
        },
        "4b22281decf64447bbc7590de021bf81": {
          "model_module": "@jupyter-widgets/controls",
          "model_name": "HTMLModel",
          "state": {
            "_view_name": "HTMLView",
            "style": "IPY_MODEL_cff3010347a54d0ba80bed065c9d0f2f",
            "_dom_classes": [],
            "description": "",
            "_model_name": "HTMLModel",
            "placeholder": "​",
            "_view_module": "@jupyter-widgets/controls",
            "_model_module_version": "1.5.0",
            "value": " 27/27 [03:20&lt;00:00,  7.44s/it, Completed]",
            "_view_count": null,
            "_view_module_version": "1.5.0",
            "description_tooltip": null,
            "_model_module": "@jupyter-widgets/controls",
            "layout": "IPY_MODEL_ec67ae973c4e4990bf975ad00f5b4965"
          }
        },
        "1ec33bd1006e451b95a37d9ded25d260": {
          "model_module": "@jupyter-widgets/controls",
          "model_name": "ProgressStyleModel",
          "state": {
            "_view_name": "StyleView",
            "_model_name": "ProgressStyleModel",
            "description_width": "initial",
            "_view_module": "@jupyter-widgets/base",
            "_model_module_version": "1.5.0",
            "_view_count": null,
            "_view_module_version": "1.2.0",
            "bar_color": null,
            "_model_module": "@jupyter-widgets/controls"
          }
        },
        "9d31ba1c7edf4141bbffeeee2f8a475c": {
          "model_module": "@jupyter-widgets/base",
          "model_name": "LayoutModel",
          "state": {
            "_view_name": "LayoutView",
            "grid_template_rows": null,
            "right": null,
            "justify_content": null,
            "_view_module": "@jupyter-widgets/base",
            "overflow": null,
            "_model_module_version": "1.2.0",
            "_view_count": null,
            "flex_flow": null,
            "width": null,
            "min_width": null,
            "border": null,
            "align_items": null,
            "bottom": null,
            "_model_module": "@jupyter-widgets/base",
            "top": null,
            "grid_column": null,
            "overflow_y": null,
            "overflow_x": null,
            "grid_auto_flow": null,
            "grid_area": null,
            "grid_template_columns": null,
            "flex": null,
            "_model_name": "LayoutModel",
            "justify_items": null,
            "grid_row": null,
            "max_height": null,
            "align_content": null,
            "visibility": null,
            "align_self": null,
            "height": null,
            "min_height": null,
            "padding": null,
            "grid_auto_rows": null,
            "grid_gap": null,
            "max_width": null,
            "order": null,
            "_view_module_version": "1.2.0",
            "grid_template_areas": null,
            "object_position": null,
            "object_fit": null,
            "grid_auto_columns": null,
            "margin": null,
            "display": null,
            "left": null
          }
        },
        "cff3010347a54d0ba80bed065c9d0f2f": {
          "model_module": "@jupyter-widgets/controls",
          "model_name": "DescriptionStyleModel",
          "state": {
            "_view_name": "StyleView",
            "_model_name": "DescriptionStyleModel",
            "description_width": "",
            "_view_module": "@jupyter-widgets/base",
            "_model_module_version": "1.5.0",
            "_view_count": null,
            "_view_module_version": "1.2.0",
            "_model_module": "@jupyter-widgets/controls"
          }
        },
        "ec67ae973c4e4990bf975ad00f5b4965": {
          "model_module": "@jupyter-widgets/base",
          "model_name": "LayoutModel",
          "state": {
            "_view_name": "LayoutView",
            "grid_template_rows": null,
            "right": null,
            "justify_content": null,
            "_view_module": "@jupyter-widgets/base",
            "overflow": null,
            "_model_module_version": "1.2.0",
            "_view_count": null,
            "flex_flow": null,
            "width": null,
            "min_width": null,
            "border": null,
            "align_items": null,
            "bottom": null,
            "_model_module": "@jupyter-widgets/base",
            "top": null,
            "grid_column": null,
            "overflow_y": null,
            "overflow_x": null,
            "grid_auto_flow": null,
            "grid_area": null,
            "grid_template_columns": null,
            "flex": null,
            "_model_name": "LayoutModel",
            "justify_items": null,
            "grid_row": null,
            "max_height": null,
            "align_content": null,
            "visibility": null,
            "align_self": null,
            "height": null,
            "min_height": null,
            "padding": null,
            "grid_auto_rows": null,
            "grid_gap": null,
            "max_width": null,
            "order": null,
            "_view_module_version": "1.2.0",
            "grid_template_areas": null,
            "object_position": null,
            "object_fit": null,
            "grid_auto_columns": null,
            "margin": null,
            "display": null,
            "left": null
          }
        },
        "5c490b1ea72044438e458b50a208f184": {
          "model_module": "@jupyter-widgets/controls",
          "model_name": "HBoxModel",
          "state": {
            "_view_name": "HBoxView",
            "_dom_classes": [],
            "_model_name": "HBoxModel",
            "_view_module": "@jupyter-widgets/controls",
            "_model_module_version": "1.5.0",
            "_view_count": null,
            "_view_module_version": "1.5.0",
            "box_style": "",
            "layout": "IPY_MODEL_5a3b9eb5dcd140f8924358ec069cb43d",
            "_model_module": "@jupyter-widgets/controls",
            "children": [
              "IPY_MODEL_9c127187c50f478891b4c68966432a63",
              "IPY_MODEL_34ab4a4a4b5f45f7b43863f33daa1da4"
            ]
          }
        },
        "5a3b9eb5dcd140f8924358ec069cb43d": {
          "model_module": "@jupyter-widgets/base",
          "model_name": "LayoutModel",
          "state": {
            "_view_name": "LayoutView",
            "grid_template_rows": null,
            "right": null,
            "justify_content": null,
            "_view_module": "@jupyter-widgets/base",
            "overflow": null,
            "_model_module_version": "1.2.0",
            "_view_count": null,
            "flex_flow": null,
            "width": null,
            "min_width": null,
            "border": null,
            "align_items": null,
            "bottom": null,
            "_model_module": "@jupyter-widgets/base",
            "top": null,
            "grid_column": null,
            "overflow_y": null,
            "overflow_x": null,
            "grid_auto_flow": null,
            "grid_area": null,
            "grid_template_columns": null,
            "flex": null,
            "_model_name": "LayoutModel",
            "justify_items": null,
            "grid_row": null,
            "max_height": null,
            "align_content": null,
            "visibility": null,
            "align_self": null,
            "height": null,
            "min_height": null,
            "padding": null,
            "grid_auto_rows": null,
            "grid_gap": null,
            "max_width": null,
            "order": null,
            "_view_module_version": "1.2.0",
            "grid_template_areas": null,
            "object_position": null,
            "object_fit": null,
            "grid_auto_columns": null,
            "margin": null,
            "display": null,
            "left": null
          }
        },
        "9c127187c50f478891b4c68966432a63": {
          "model_module": "@jupyter-widgets/controls",
          "model_name": "FloatProgressModel",
          "state": {
            "_view_name": "ProgressView",
            "style": "IPY_MODEL_ae34830fef41445b8a51dec13b49e3e9",
            "_dom_classes": [],
            "description": "Generate report structure: 100%",
            "_model_name": "FloatProgressModel",
            "bar_style": "success",
            "max": 1,
            "_view_module": "@jupyter-widgets/controls",
            "_model_module_version": "1.5.0",
            "value": 1,
            "_view_count": null,
            "_view_module_version": "1.5.0",
            "orientation": "horizontal",
            "min": 0,
            "description_tooltip": null,
            "_model_module": "@jupyter-widgets/controls",
            "layout": "IPY_MODEL_4a3c769717b24b908cb6ed93bdf0abd9"
          }
        },
        "34ab4a4a4b5f45f7b43863f33daa1da4": {
          "model_module": "@jupyter-widgets/controls",
          "model_name": "HTMLModel",
          "state": {
            "_view_name": "HTMLView",
            "style": "IPY_MODEL_c264719ad81c4b0899d37d802621856d",
            "_dom_classes": [],
            "description": "",
            "_model_name": "HTMLModel",
            "placeholder": "​",
            "_view_module": "@jupyter-widgets/controls",
            "_model_module_version": "1.5.0",
            "value": " 1/1 [01:39&lt;00:00, 99.47s/it]",
            "_view_count": null,
            "_view_module_version": "1.5.0",
            "description_tooltip": null,
            "_model_module": "@jupyter-widgets/controls",
            "layout": "IPY_MODEL_c4eb2e7a2b484995b00cecc2a2ca8bf5"
          }
        },
        "ae34830fef41445b8a51dec13b49e3e9": {
          "model_module": "@jupyter-widgets/controls",
          "model_name": "ProgressStyleModel",
          "state": {
            "_view_name": "StyleView",
            "_model_name": "ProgressStyleModel",
            "description_width": "initial",
            "_view_module": "@jupyter-widgets/base",
            "_model_module_version": "1.5.0",
            "_view_count": null,
            "_view_module_version": "1.2.0",
            "bar_color": null,
            "_model_module": "@jupyter-widgets/controls"
          }
        },
        "4a3c769717b24b908cb6ed93bdf0abd9": {
          "model_module": "@jupyter-widgets/base",
          "model_name": "LayoutModel",
          "state": {
            "_view_name": "LayoutView",
            "grid_template_rows": null,
            "right": null,
            "justify_content": null,
            "_view_module": "@jupyter-widgets/base",
            "overflow": null,
            "_model_module_version": "1.2.0",
            "_view_count": null,
            "flex_flow": null,
            "width": null,
            "min_width": null,
            "border": null,
            "align_items": null,
            "bottom": null,
            "_model_module": "@jupyter-widgets/base",
            "top": null,
            "grid_column": null,
            "overflow_y": null,
            "overflow_x": null,
            "grid_auto_flow": null,
            "grid_area": null,
            "grid_template_columns": null,
            "flex": null,
            "_model_name": "LayoutModel",
            "justify_items": null,
            "grid_row": null,
            "max_height": null,
            "align_content": null,
            "visibility": null,
            "align_self": null,
            "height": null,
            "min_height": null,
            "padding": null,
            "grid_auto_rows": null,
            "grid_gap": null,
            "max_width": null,
            "order": null,
            "_view_module_version": "1.2.0",
            "grid_template_areas": null,
            "object_position": null,
            "object_fit": null,
            "grid_auto_columns": null,
            "margin": null,
            "display": null,
            "left": null
          }
        },
        "c264719ad81c4b0899d37d802621856d": {
          "model_module": "@jupyter-widgets/controls",
          "model_name": "DescriptionStyleModel",
          "state": {
            "_view_name": "StyleView",
            "_model_name": "DescriptionStyleModel",
            "description_width": "",
            "_view_module": "@jupyter-widgets/base",
            "_model_module_version": "1.5.0",
            "_view_count": null,
            "_view_module_version": "1.2.0",
            "_model_module": "@jupyter-widgets/controls"
          }
        },
        "c4eb2e7a2b484995b00cecc2a2ca8bf5": {
          "model_module": "@jupyter-widgets/base",
          "model_name": "LayoutModel",
          "state": {
            "_view_name": "LayoutView",
            "grid_template_rows": null,
            "right": null,
            "justify_content": null,
            "_view_module": "@jupyter-widgets/base",
            "overflow": null,
            "_model_module_version": "1.2.0",
            "_view_count": null,
            "flex_flow": null,
            "width": null,
            "min_width": null,
            "border": null,
            "align_items": null,
            "bottom": null,
            "_model_module": "@jupyter-widgets/base",
            "top": null,
            "grid_column": null,
            "overflow_y": null,
            "overflow_x": null,
            "grid_auto_flow": null,
            "grid_area": null,
            "grid_template_columns": null,
            "flex": null,
            "_model_name": "LayoutModel",
            "justify_items": null,
            "grid_row": null,
            "max_height": null,
            "align_content": null,
            "visibility": null,
            "align_self": null,
            "height": null,
            "min_height": null,
            "padding": null,
            "grid_auto_rows": null,
            "grid_gap": null,
            "max_width": null,
            "order": null,
            "_view_module_version": "1.2.0",
            "grid_template_areas": null,
            "object_position": null,
            "object_fit": null,
            "grid_auto_columns": null,
            "margin": null,
            "display": null,
            "left": null
          }
        },
        "afcc394afd20427fb289e69bc1b76843": {
          "model_module": "@jupyter-widgets/controls",
          "model_name": "HBoxModel",
          "state": {
            "_view_name": "HBoxView",
            "_dom_classes": [],
            "_model_name": "HBoxModel",
            "_view_module": "@jupyter-widgets/controls",
            "_model_module_version": "1.5.0",
            "_view_count": null,
            "_view_module_version": "1.5.0",
            "box_style": "",
            "layout": "IPY_MODEL_583181cd730e4ddabc1132acf4d1b94f",
            "_model_module": "@jupyter-widgets/controls",
            "children": [
              "IPY_MODEL_dbf88dc4649243beab5865a876699db5",
              "IPY_MODEL_65ccad09526f44cf88ca23112c59ade0"
            ]
          }
        },
        "583181cd730e4ddabc1132acf4d1b94f": {
          "model_module": "@jupyter-widgets/base",
          "model_name": "LayoutModel",
          "state": {
            "_view_name": "LayoutView",
            "grid_template_rows": null,
            "right": null,
            "justify_content": null,
            "_view_module": "@jupyter-widgets/base",
            "overflow": null,
            "_model_module_version": "1.2.0",
            "_view_count": null,
            "flex_flow": null,
            "width": null,
            "min_width": null,
            "border": null,
            "align_items": null,
            "bottom": null,
            "_model_module": "@jupyter-widgets/base",
            "top": null,
            "grid_column": null,
            "overflow_y": null,
            "overflow_x": null,
            "grid_auto_flow": null,
            "grid_area": null,
            "grid_template_columns": null,
            "flex": null,
            "_model_name": "LayoutModel",
            "justify_items": null,
            "grid_row": null,
            "max_height": null,
            "align_content": null,
            "visibility": null,
            "align_self": null,
            "height": null,
            "min_height": null,
            "padding": null,
            "grid_auto_rows": null,
            "grid_gap": null,
            "max_width": null,
            "order": null,
            "_view_module_version": "1.2.0",
            "grid_template_areas": null,
            "object_position": null,
            "object_fit": null,
            "grid_auto_columns": null,
            "margin": null,
            "display": null,
            "left": null
          }
        },
        "dbf88dc4649243beab5865a876699db5": {
          "model_module": "@jupyter-widgets/controls",
          "model_name": "FloatProgressModel",
          "state": {
            "_view_name": "ProgressView",
            "style": "IPY_MODEL_b13ed4f44cda4bea8b9673bb0d89c059",
            "_dom_classes": [],
            "description": "Render HTML: 100%",
            "_model_name": "FloatProgressModel",
            "bar_style": "success",
            "max": 1,
            "_view_module": "@jupyter-widgets/controls",
            "_model_module_version": "1.5.0",
            "value": 1,
            "_view_count": null,
            "_view_module_version": "1.5.0",
            "orientation": "horizontal",
            "min": 0,
            "description_tooltip": null,
            "_model_module": "@jupyter-widgets/controls",
            "layout": "IPY_MODEL_297fc8441b7d4286b7899578d9914613"
          }
        },
        "65ccad09526f44cf88ca23112c59ade0": {
          "model_module": "@jupyter-widgets/controls",
          "model_name": "HTMLModel",
          "state": {
            "_view_name": "HTMLView",
            "style": "IPY_MODEL_ed83f9aa5e4649428e8d3991f05f34f5",
            "_dom_classes": [],
            "description": "",
            "_model_name": "HTMLModel",
            "placeholder": "​",
            "_view_module": "@jupyter-widgets/controls",
            "_model_module_version": "1.5.0",
            "value": " 1/1 [14:59&lt;00:00, 899.34s/it]",
            "_view_count": null,
            "_view_module_version": "1.5.0",
            "description_tooltip": null,
            "_model_module": "@jupyter-widgets/controls",
            "layout": "IPY_MODEL_337e682b637644e989c3b4500810dc91"
          }
        },
        "b13ed4f44cda4bea8b9673bb0d89c059": {
          "model_module": "@jupyter-widgets/controls",
          "model_name": "ProgressStyleModel",
          "state": {
            "_view_name": "StyleView",
            "_model_name": "ProgressStyleModel",
            "description_width": "initial",
            "_view_module": "@jupyter-widgets/base",
            "_model_module_version": "1.5.0",
            "_view_count": null,
            "_view_module_version": "1.2.0",
            "bar_color": null,
            "_model_module": "@jupyter-widgets/controls"
          }
        },
        "297fc8441b7d4286b7899578d9914613": {
          "model_module": "@jupyter-widgets/base",
          "model_name": "LayoutModel",
          "state": {
            "_view_name": "LayoutView",
            "grid_template_rows": null,
            "right": null,
            "justify_content": null,
            "_view_module": "@jupyter-widgets/base",
            "overflow": null,
            "_model_module_version": "1.2.0",
            "_view_count": null,
            "flex_flow": null,
            "width": null,
            "min_width": null,
            "border": null,
            "align_items": null,
            "bottom": null,
            "_model_module": "@jupyter-widgets/base",
            "top": null,
            "grid_column": null,
            "overflow_y": null,
            "overflow_x": null,
            "grid_auto_flow": null,
            "grid_area": null,
            "grid_template_columns": null,
            "flex": null,
            "_model_name": "LayoutModel",
            "justify_items": null,
            "grid_row": null,
            "max_height": null,
            "align_content": null,
            "visibility": null,
            "align_self": null,
            "height": null,
            "min_height": null,
            "padding": null,
            "grid_auto_rows": null,
            "grid_gap": null,
            "max_width": null,
            "order": null,
            "_view_module_version": "1.2.0",
            "grid_template_areas": null,
            "object_position": null,
            "object_fit": null,
            "grid_auto_columns": null,
            "margin": null,
            "display": null,
            "left": null
          }
        },
        "ed83f9aa5e4649428e8d3991f05f34f5": {
          "model_module": "@jupyter-widgets/controls",
          "model_name": "DescriptionStyleModel",
          "state": {
            "_view_name": "StyleView",
            "_model_name": "DescriptionStyleModel",
            "description_width": "",
            "_view_module": "@jupyter-widgets/base",
            "_model_module_version": "1.5.0",
            "_view_count": null,
            "_view_module_version": "1.2.0",
            "_model_module": "@jupyter-widgets/controls"
          }
        },
        "337e682b637644e989c3b4500810dc91": {
          "model_module": "@jupyter-widgets/base",
          "model_name": "LayoutModel",
          "state": {
            "_view_name": "LayoutView",
            "grid_template_rows": null,
            "right": null,
            "justify_content": null,
            "_view_module": "@jupyter-widgets/base",
            "overflow": null,
            "_model_module_version": "1.2.0",
            "_view_count": null,
            "flex_flow": null,
            "width": null,
            "min_width": null,
            "border": null,
            "align_items": null,
            "bottom": null,
            "_model_module": "@jupyter-widgets/base",
            "top": null,
            "grid_column": null,
            "overflow_y": null,
            "overflow_x": null,
            "grid_auto_flow": null,
            "grid_area": null,
            "grid_template_columns": null,
            "flex": null,
            "_model_name": "LayoutModel",
            "justify_items": null,
            "grid_row": null,
            "max_height": null,
            "align_content": null,
            "visibility": null,
            "align_self": null,
            "height": null,
            "min_height": null,
            "padding": null,
            "grid_auto_rows": null,
            "grid_gap": null,
            "max_width": null,
            "order": null,
            "_view_module_version": "1.2.0",
            "grid_template_areas": null,
            "object_position": null,
            "object_fit": null,
            "grid_auto_columns": null,
            "margin": null,
            "display": null,
            "left": null
          }
        },
        "49209e97ab5441ca956a38f172826f2d": {
          "model_module": "@jupyter-widgets/controls",
          "model_name": "HBoxModel",
          "state": {
            "_view_name": "HBoxView",
            "_dom_classes": [],
            "_model_name": "HBoxModel",
            "_view_module": "@jupyter-widgets/controls",
            "_model_module_version": "1.5.0",
            "_view_count": null,
            "_view_module_version": "1.5.0",
            "box_style": "",
            "layout": "IPY_MODEL_d874cd9db2c44bc09c7d3d334ee40ba1",
            "_model_module": "@jupyter-widgets/controls",
            "children": [
              "IPY_MODEL_d7dbd2419f9b430580d61fcb5ed10c0c",
              "IPY_MODEL_b25c2dfe5e574bff88e6e6bce8864d6a"
            ]
          }
        },
        "d874cd9db2c44bc09c7d3d334ee40ba1": {
          "model_module": "@jupyter-widgets/base",
          "model_name": "LayoutModel",
          "state": {
            "_view_name": "LayoutView",
            "grid_template_rows": null,
            "right": null,
            "justify_content": null,
            "_view_module": "@jupyter-widgets/base",
            "overflow": null,
            "_model_module_version": "1.2.0",
            "_view_count": null,
            "flex_flow": null,
            "width": null,
            "min_width": null,
            "border": null,
            "align_items": null,
            "bottom": null,
            "_model_module": "@jupyter-widgets/base",
            "top": null,
            "grid_column": null,
            "overflow_y": null,
            "overflow_x": null,
            "grid_auto_flow": null,
            "grid_area": null,
            "grid_template_columns": null,
            "flex": null,
            "_model_name": "LayoutModel",
            "justify_items": null,
            "grid_row": null,
            "max_height": null,
            "align_content": null,
            "visibility": null,
            "align_self": null,
            "height": null,
            "min_height": null,
            "padding": null,
            "grid_auto_rows": null,
            "grid_gap": null,
            "max_width": null,
            "order": null,
            "_view_module_version": "1.2.0",
            "grid_template_areas": null,
            "object_position": null,
            "object_fit": null,
            "grid_auto_columns": null,
            "margin": null,
            "display": null,
            "left": null
          }
        },
        "d7dbd2419f9b430580d61fcb5ed10c0c": {
          "model_module": "@jupyter-widgets/controls",
          "model_name": "FloatProgressModel",
          "state": {
            "_view_name": "ProgressView",
            "style": "IPY_MODEL_fb7ebbc0648e44b698da853e1bef87e9",
            "_dom_classes": [],
            "description": "Export report to file: 100%",
            "_model_name": "FloatProgressModel",
            "bar_style": "success",
            "max": 1,
            "_view_module": "@jupyter-widgets/controls",
            "_model_module_version": "1.5.0",
            "value": 1,
            "_view_count": null,
            "_view_module_version": "1.5.0",
            "orientation": "horizontal",
            "min": 0,
            "description_tooltip": null,
            "_model_module": "@jupyter-widgets/controls",
            "layout": "IPY_MODEL_e7ccfdfcbf4f4ebababb48e0b7a10924"
          }
        },
        "b25c2dfe5e574bff88e6e6bce8864d6a": {
          "model_module": "@jupyter-widgets/controls",
          "model_name": "HTMLModel",
          "state": {
            "_view_name": "HTMLView",
            "style": "IPY_MODEL_32973093bb8f4146be452c710d74e0a7",
            "_dom_classes": [],
            "description": "",
            "_model_name": "HTMLModel",
            "placeholder": "​",
            "_view_module": "@jupyter-widgets/controls",
            "_model_module_version": "1.5.0",
            "value": " 1/1 [14:58&lt;00:00, 898.92s/it]",
            "_view_count": null,
            "_view_module_version": "1.5.0",
            "description_tooltip": null,
            "_model_module": "@jupyter-widgets/controls",
            "layout": "IPY_MODEL_7ffdc04d7ec04d62a9dad3abeb1b9601"
          }
        },
        "fb7ebbc0648e44b698da853e1bef87e9": {
          "model_module": "@jupyter-widgets/controls",
          "model_name": "ProgressStyleModel",
          "state": {
            "_view_name": "StyleView",
            "_model_name": "ProgressStyleModel",
            "description_width": "initial",
            "_view_module": "@jupyter-widgets/base",
            "_model_module_version": "1.5.0",
            "_view_count": null,
            "_view_module_version": "1.2.0",
            "bar_color": null,
            "_model_module": "@jupyter-widgets/controls"
          }
        },
        "e7ccfdfcbf4f4ebababb48e0b7a10924": {
          "model_module": "@jupyter-widgets/base",
          "model_name": "LayoutModel",
          "state": {
            "_view_name": "LayoutView",
            "grid_template_rows": null,
            "right": null,
            "justify_content": null,
            "_view_module": "@jupyter-widgets/base",
            "overflow": null,
            "_model_module_version": "1.2.0",
            "_view_count": null,
            "flex_flow": null,
            "width": null,
            "min_width": null,
            "border": null,
            "align_items": null,
            "bottom": null,
            "_model_module": "@jupyter-widgets/base",
            "top": null,
            "grid_column": null,
            "overflow_y": null,
            "overflow_x": null,
            "grid_auto_flow": null,
            "grid_area": null,
            "grid_template_columns": null,
            "flex": null,
            "_model_name": "LayoutModel",
            "justify_items": null,
            "grid_row": null,
            "max_height": null,
            "align_content": null,
            "visibility": null,
            "align_self": null,
            "height": null,
            "min_height": null,
            "padding": null,
            "grid_auto_rows": null,
            "grid_gap": null,
            "max_width": null,
            "order": null,
            "_view_module_version": "1.2.0",
            "grid_template_areas": null,
            "object_position": null,
            "object_fit": null,
            "grid_auto_columns": null,
            "margin": null,
            "display": null,
            "left": null
          }
        },
        "32973093bb8f4146be452c710d74e0a7": {
          "model_module": "@jupyter-widgets/controls",
          "model_name": "DescriptionStyleModel",
          "state": {
            "_view_name": "StyleView",
            "_model_name": "DescriptionStyleModel",
            "description_width": "",
            "_view_module": "@jupyter-widgets/base",
            "_model_module_version": "1.5.0",
            "_view_count": null,
            "_view_module_version": "1.2.0",
            "_model_module": "@jupyter-widgets/controls"
          }
        },
        "7ffdc04d7ec04d62a9dad3abeb1b9601": {
          "model_module": "@jupyter-widgets/base",
          "model_name": "LayoutModel",
          "state": {
            "_view_name": "LayoutView",
            "grid_template_rows": null,
            "right": null,
            "justify_content": null,
            "_view_module": "@jupyter-widgets/base",
            "overflow": null,
            "_model_module_version": "1.2.0",
            "_view_count": null,
            "flex_flow": null,
            "width": null,
            "min_width": null,
            "border": null,
            "align_items": null,
            "bottom": null,
            "_model_module": "@jupyter-widgets/base",
            "top": null,
            "grid_column": null,
            "overflow_y": null,
            "overflow_x": null,
            "grid_auto_flow": null,
            "grid_area": null,
            "grid_template_columns": null,
            "flex": null,
            "_model_name": "LayoutModel",
            "justify_items": null,
            "grid_row": null,
            "max_height": null,
            "align_content": null,
            "visibility": null,
            "align_self": null,
            "height": null,
            "min_height": null,
            "padding": null,
            "grid_auto_rows": null,
            "grid_gap": null,
            "max_width": null,
            "order": null,
            "_view_module_version": "1.2.0",
            "grid_template_areas": null,
            "object_position": null,
            "object_fit": null,
            "grid_auto_columns": null,
            "margin": null,
            "display": null,
            "left": null
          }
        }
      }
    }
  },
  "cells": [
    {
      "cell_type": "markdown",
      "metadata": {
        "id": "4cbgwZWWfWpp",
        "colab_type": "text"
      },
      "source": [
        "# **Part 1: Data Exploration and Cleaning**"
      ]
    },
    {
      "cell_type": "markdown",
      "metadata": {
        "id": "uxQqePGoViYr",
        "colab_type": "text"
      },
      "source": [
        "#### This is a preliminary data exploration, which intends to load the datasets, identify issues with the data, as well as to remove data that could later introduce biases in the models. The specific actions taken are provided together with each step.\n",
        "\n",
        "#### We focus on New York City yellow cab data from the months of March, June, and November in 2017. The datasource can be found [here](https://www1.nyc.gov/site/tlc/about/tlc-trip-record-data.page). The data dictionary describing all variables can be found [here](https://www1.nyc.gov/assets/tlc/downloads/pdf/data_dictionary_trip_records_yellow.pdf)."
      ]
    },
    {
      "cell_type": "markdown",
      "metadata": {
        "id": "46sOXbQc-gtT",
        "colab_type": "text"
      },
      "source": [
        "#### The final **objective** of this analysis is to generate a model that **predicts the tip amount** to the rider."
      ]
    },
    {
      "cell_type": "code",
      "metadata": {
        "id": "pafL7Li0jyXW",
        "colab_type": "code",
        "colab": {
          "base_uri": "https://localhost:8080/",
          "height": 51
        },
        "outputId": "5152c951-7670-4a09-ac93-addfd693d1e1"
      },
      "source": [
        "import matplotlib.pyplot as plt\n",
        "import numpy as np\n",
        "import pandas as pd\n",
        "import seaborn as sns\n",
        "import requests\n",
        "import io\n",
        "# pip install pandas-profiling==2.8.0 # For a reproducible analysis\n",
        "from pandas_profiling import ProfileReport\n",
        "%matplotlib inline"
      ],
      "execution_count": null,
      "outputs": [
        {
          "output_type": "stream",
          "text": [
            "/usr/local/lib/python3.6/dist-packages/statsmodels/tools/_testing.py:19: FutureWarning: pandas.util.testing is deprecated. Use the functions in the public API at pandas.testing instead.\n",
            "  import pandas.util.testing as tm\n"
          ],
          "name": "stderr"
        }
      ]
    },
    {
      "cell_type": "code",
      "metadata": {
        "id": "iMtG14KHHo7k",
        "colab_type": "code",
        "colab": {
          "base_uri": "https://localhost:8080/",
          "height": 275
        },
        "outputId": "b9d5a0c1-964e-4aab-8b50-c11f8452a734"
      },
      "source": [
        "url = \"https://s3.amazonaws.com/nyc-tlc/trip+data/yellow_tripdata_2017-03.csv\"\n",
        "req = requests.get(url).content\n",
        "df = pd.read_csv(io.StringIO(req.decode('utf-8')))\n",
        "print(df.shape)\n",
        "\n",
        "url = \"https://s3.amazonaws.com/nyc-tlc/trip+data/yellow_tripdata_2017-06.csv\"\n",
        "req = requests.get(url).content\n",
        "df = df.append(pd.read_csv(io.StringIO(req.decode('utf-8'))))\n",
        "print(df.shape)\n",
        "\n",
        "url = \"https://s3.amazonaws.com/nyc-tlc/trip+data/yellow_tripdata_2017-11.csv\"\n",
        "req = requests.get(url).content\n",
        "df = df.append(pd.read_csv(io.StringIO(req.decode('utf-8'))))\n",
        "print(df.shape)\n",
        "\n",
        "df.head()"
      ],
      "execution_count": null,
      "outputs": [
        {
          "output_type": "stream",
          "text": [
            "(10294628, 17)\n",
            "(19951621, 17)\n",
            "(29236424, 17)\n"
          ],
          "name": "stdout"
        },
        {
          "output_type": "execute_result",
          "data": {
            "text/html": [
              "<div>\n",
              "<style scoped>\n",
              "    .dataframe tbody tr th:only-of-type {\n",
              "        vertical-align: middle;\n",
              "    }\n",
              "\n",
              "    .dataframe tbody tr th {\n",
              "        vertical-align: top;\n",
              "    }\n",
              "\n",
              "    .dataframe thead th {\n",
              "        text-align: right;\n",
              "    }\n",
              "</style>\n",
              "<table border=\"1\" class=\"dataframe\">\n",
              "  <thead>\n",
              "    <tr style=\"text-align: right;\">\n",
              "      <th></th>\n",
              "      <th>VendorID</th>\n",
              "      <th>tpep_pickup_datetime</th>\n",
              "      <th>tpep_dropoff_datetime</th>\n",
              "      <th>passenger_count</th>\n",
              "      <th>trip_distance</th>\n",
              "      <th>RatecodeID</th>\n",
              "      <th>store_and_fwd_flag</th>\n",
              "      <th>PULocationID</th>\n",
              "      <th>DOLocationID</th>\n",
              "      <th>payment_type</th>\n",
              "      <th>fare_amount</th>\n",
              "      <th>extra</th>\n",
              "      <th>mta_tax</th>\n",
              "      <th>tip_amount</th>\n",
              "      <th>tolls_amount</th>\n",
              "      <th>improvement_surcharge</th>\n",
              "      <th>total_amount</th>\n",
              "    </tr>\n",
              "  </thead>\n",
              "  <tbody>\n",
              "    <tr>\n",
              "      <th>0</th>\n",
              "      <td>2</td>\n",
              "      <td>2017-03-09 21:30:11</td>\n",
              "      <td>2017-03-09 21:44:20</td>\n",
              "      <td>1</td>\n",
              "      <td>4.06</td>\n",
              "      <td>1</td>\n",
              "      <td>N</td>\n",
              "      <td>148</td>\n",
              "      <td>48</td>\n",
              "      <td>1</td>\n",
              "      <td>14.0</td>\n",
              "      <td>0.5</td>\n",
              "      <td>0.5</td>\n",
              "      <td>3.06</td>\n",
              "      <td>0.0</td>\n",
              "      <td>0.3</td>\n",
              "      <td>18.36</td>\n",
              "    </tr>\n",
              "    <tr>\n",
              "      <th>1</th>\n",
              "      <td>2</td>\n",
              "      <td>2017-03-09 21:47:00</td>\n",
              "      <td>2017-03-09 21:58:01</td>\n",
              "      <td>1</td>\n",
              "      <td>2.73</td>\n",
              "      <td>1</td>\n",
              "      <td>N</td>\n",
              "      <td>48</td>\n",
              "      <td>107</td>\n",
              "      <td>2</td>\n",
              "      <td>11.5</td>\n",
              "      <td>0.5</td>\n",
              "      <td>0.5</td>\n",
              "      <td>0.00</td>\n",
              "      <td>0.0</td>\n",
              "      <td>0.3</td>\n",
              "      <td>12.80</td>\n",
              "    </tr>\n",
              "    <tr>\n",
              "      <th>2</th>\n",
              "      <td>2</td>\n",
              "      <td>2017-03-09 22:01:08</td>\n",
              "      <td>2017-03-09 22:11:16</td>\n",
              "      <td>1</td>\n",
              "      <td>2.27</td>\n",
              "      <td>1</td>\n",
              "      <td>N</td>\n",
              "      <td>79</td>\n",
              "      <td>162</td>\n",
              "      <td>1</td>\n",
              "      <td>10.0</td>\n",
              "      <td>0.5</td>\n",
              "      <td>0.5</td>\n",
              "      <td>2.82</td>\n",
              "      <td>0.0</td>\n",
              "      <td>0.3</td>\n",
              "      <td>14.12</td>\n",
              "    </tr>\n",
              "    <tr>\n",
              "      <th>3</th>\n",
              "      <td>2</td>\n",
              "      <td>2017-03-09 22:16:05</td>\n",
              "      <td>2017-03-10 06:26:11</td>\n",
              "      <td>1</td>\n",
              "      <td>3.86</td>\n",
              "      <td>1</td>\n",
              "      <td>N</td>\n",
              "      <td>237</td>\n",
              "      <td>41</td>\n",
              "      <td>1</td>\n",
              "      <td>12.0</td>\n",
              "      <td>0.5</td>\n",
              "      <td>0.5</td>\n",
              "      <td>3.99</td>\n",
              "      <td>0.0</td>\n",
              "      <td>0.3</td>\n",
              "      <td>17.29</td>\n",
              "    </tr>\n",
              "    <tr>\n",
              "      <th>4</th>\n",
              "      <td>2</td>\n",
              "      <td>2017-03-31 06:31:53</td>\n",
              "      <td>2017-03-31 06:41:48</td>\n",
              "      <td>1</td>\n",
              "      <td>3.45</td>\n",
              "      <td>1</td>\n",
              "      <td>N</td>\n",
              "      <td>41</td>\n",
              "      <td>162</td>\n",
              "      <td>2</td>\n",
              "      <td>12.0</td>\n",
              "      <td>0.5</td>\n",
              "      <td>0.5</td>\n",
              "      <td>0.00</td>\n",
              "      <td>0.0</td>\n",
              "      <td>0.3</td>\n",
              "      <td>13.30</td>\n",
              "    </tr>\n",
              "  </tbody>\n",
              "</table>\n",
              "</div>"
            ],
            "text/plain": [
              "   VendorID tpep_pickup_datetime  ... improvement_surcharge  total_amount\n",
              "0         2  2017-03-09 21:30:11  ...                   0.3         18.36\n",
              "1         2  2017-03-09 21:47:00  ...                   0.3         12.80\n",
              "2         2  2017-03-09 22:01:08  ...                   0.3         14.12\n",
              "3         2  2017-03-09 22:16:05  ...                   0.3         17.29\n",
              "4         2  2017-03-31 06:31:53  ...                   0.3         13.30\n",
              "\n",
              "[5 rows x 17 columns]"
            ]
          },
          "metadata": {
            "tags": []
          },
          "execution_count": 2
        }
      ]
    },
    {
      "cell_type": "markdown",
      "metadata": {
        "id": "sCcz0ROKYn78",
        "colab_type": "text"
      },
      "source": [
        "#### Open the data report following [this link](https://rcruzgar.github.io/taxi_tips/).\n",
        "\n",
        "This report shows basic statistics, the histograms and the common and extreme values."
      ]
    },
    {
      "cell_type": "code",
      "metadata": {
        "id": "LhLgewmDHr6U",
        "colab_type": "code",
        "colab": {
          "base_uri": "https://localhost:8080/",
          "height": 213,
          "referenced_widgets": [
            "4f51594dc82a4a22812ce43c40d64259",
            "b085b17fd1a6478dbc94000f1e499e65",
            "1e22db90778a4c50a43211205a184ae6",
            "4b22281decf64447bbc7590de021bf81",
            "1ec33bd1006e451b95a37d9ded25d260",
            "9d31ba1c7edf4141bbffeeee2f8a475c",
            "cff3010347a54d0ba80bed065c9d0f2f",
            "ec67ae973c4e4990bf975ad00f5b4965",
            "5c490b1ea72044438e458b50a208f184",
            "5a3b9eb5dcd140f8924358ec069cb43d",
            "9c127187c50f478891b4c68966432a63",
            "34ab4a4a4b5f45f7b43863f33daa1da4",
            "ae34830fef41445b8a51dec13b49e3e9",
            "4a3c769717b24b908cb6ed93bdf0abd9",
            "c264719ad81c4b0899d37d802621856d",
            "c4eb2e7a2b484995b00cecc2a2ca8bf5",
            "afcc394afd20427fb289e69bc1b76843",
            "583181cd730e4ddabc1132acf4d1b94f",
            "dbf88dc4649243beab5865a876699db5",
            "65ccad09526f44cf88ca23112c59ade0",
            "b13ed4f44cda4bea8b9673bb0d89c059",
            "297fc8441b7d4286b7899578d9914613",
            "ed83f9aa5e4649428e8d3991f05f34f5",
            "337e682b637644e989c3b4500810dc91",
            "49209e97ab5441ca956a38f172826f2d",
            "d874cd9db2c44bc09c7d3d334ee40ba1",
            "d7dbd2419f9b430580d61fcb5ed10c0c",
            "b25c2dfe5e574bff88e6e6bce8864d6a",
            "fb7ebbc0648e44b698da853e1bef87e9",
            "e7ccfdfcbf4f4ebababb48e0b7a10924",
            "32973093bb8f4146be452c710d74e0a7",
            "7ffdc04d7ec04d62a9dad3abeb1b9601"
          ]
        },
        "outputId": "5e64271d-8f83-451d-a2eb-bae65315bd9f"
      },
      "source": [
        "profile = ProfileReport(df, minimal=True)\n",
        "profile.to_file(\"index.html\")"
      ],
      "execution_count": null,
      "outputs": [
        {
          "output_type": "display_data",
          "data": {
            "application/vnd.jupyter.widget-view+json": {
              "model_id": "4f51594dc82a4a22812ce43c40d64259",
              "version_minor": 0,
              "version_major": 2
            },
            "text/plain": [
              "HBox(children=(FloatProgress(value=0.0, description='Summarize dataset', max=27.0, style=ProgressStyle(descrip…"
            ]
          },
          "metadata": {
            "tags": []
          }
        },
        {
          "output_type": "stream",
          "text": [
            "\n"
          ],
          "name": "stdout"
        },
        {
          "output_type": "display_data",
          "data": {
            "application/vnd.jupyter.widget-view+json": {
              "model_id": "5c490b1ea72044438e458b50a208f184",
              "version_minor": 0,
              "version_major": 2
            },
            "text/plain": [
              "HBox(children=(FloatProgress(value=0.0, description='Generate report structure', max=1.0, style=ProgressStyle(…"
            ]
          },
          "metadata": {
            "tags": []
          }
        },
        {
          "output_type": "stream",
          "text": [
            "\n"
          ],
          "name": "stdout"
        },
        {
          "output_type": "display_data",
          "data": {
            "application/vnd.jupyter.widget-view+json": {
              "model_id": "afcc394afd20427fb289e69bc1b76843",
              "version_minor": 0,
              "version_major": 2
            },
            "text/plain": [
              "HBox(children=(FloatProgress(value=0.0, description='Render HTML', max=1.0, style=ProgressStyle(description_wi…"
            ]
          },
          "metadata": {
            "tags": []
          }
        },
        {
          "output_type": "stream",
          "text": [
            "\n"
          ],
          "name": "stdout"
        },
        {
          "output_type": "display_data",
          "data": {
            "application/vnd.jupyter.widget-view+json": {
              "model_id": "49209e97ab5441ca956a38f172826f2d",
              "version_minor": 0,
              "version_major": 2
            },
            "text/plain": [
              "HBox(children=(FloatProgress(value=0.0, description='Export report to file', max=1.0, style=ProgressStyle(desc…"
            ]
          },
          "metadata": {
            "tags": []
          }
        },
        {
          "output_type": "stream",
          "text": [
            "\n"
          ],
          "name": "stdout"
        }
      ]
    },
    {
      "cell_type": "markdown",
      "metadata": {
        "id": "onsUlDK2Jho7",
        "colab_type": "text"
      },
      "source": [
        "### **Conclusions from the report**:\n",
        "\n",
        "* In principle, no missing values appear for none of the variables, but these could be masked with other values. So we will investigate it further for each column. To avoid outliers, in most of cases we will remove those rows where values are outside the 99.99% quantile.\n",
        "\n",
        "* **passenger_count**: There seem to be incoherent values: 0, 7, 8 and 9 passengers. All together represent less than 0.5% of the trips. As it is a driver-entered value, we will remove those trips. For 0 passengers it could actually be a service for transporting some object, but as these are exceptional cases, we remove that information."
      ]
    },
    {
      "cell_type": "code",
      "metadata": {
        "id": "Gkz3OBbN8XnU",
        "colab_type": "code",
        "colab": {}
      },
      "source": [
        "df = df[(df['passenger_count'] > 0) & (df['passenger_count'] < 7)]"
      ],
      "execution_count": null,
      "outputs": []
    },
    {
      "cell_type": "markdown",
      "metadata": {
        "id": "NiSb1d0n-SAk",
        "colab_type": "text"
      },
      "source": [
        "* **trip_distance**: The maximum value as reported by the taximeter is **9496.98 miles**, although there are other extreme values:"
      ]
    },
    {
      "cell_type": "code",
      "metadata": {
        "id": "NAWwlpa_-Yer",
        "colab_type": "code",
        "colab": {
          "base_uri": "https://localhost:8080/",
          "height": 689
        },
        "outputId": "d4b85b32-d17c-47dd-c8fd-4fb2da208797"
      },
      "source": [
        "df.sort_values(by=['trip_distance'], ascending=False).head(20)"
      ],
      "execution_count": null,
      "outputs": [
        {
          "output_type": "execute_result",
          "data": {
            "text/html": [
              "<div>\n",
              "<style scoped>\n",
              "    .dataframe tbody tr th:only-of-type {\n",
              "        vertical-align: middle;\n",
              "    }\n",
              "\n",
              "    .dataframe tbody tr th {\n",
              "        vertical-align: top;\n",
              "    }\n",
              "\n",
              "    .dataframe thead th {\n",
              "        text-align: right;\n",
              "    }\n",
              "</style>\n",
              "<table border=\"1\" class=\"dataframe\">\n",
              "  <thead>\n",
              "    <tr style=\"text-align: right;\">\n",
              "      <th></th>\n",
              "      <th>VendorID</th>\n",
              "      <th>tpep_pickup_datetime</th>\n",
              "      <th>tpep_dropoff_datetime</th>\n",
              "      <th>passenger_count</th>\n",
              "      <th>trip_distance</th>\n",
              "      <th>RatecodeID</th>\n",
              "      <th>store_and_fwd_flag</th>\n",
              "      <th>PULocationID</th>\n",
              "      <th>DOLocationID</th>\n",
              "      <th>payment_type</th>\n",
              "      <th>fare_amount</th>\n",
              "      <th>extra</th>\n",
              "      <th>mta_tax</th>\n",
              "      <th>tip_amount</th>\n",
              "      <th>tolls_amount</th>\n",
              "      <th>improvement_surcharge</th>\n",
              "      <th>total_amount</th>\n",
              "    </tr>\n",
              "  </thead>\n",
              "  <tbody>\n",
              "    <tr>\n",
              "      <th>5640037</th>\n",
              "      <td>2</td>\n",
              "      <td>2017-06-20 15:21:21</td>\n",
              "      <td>2017-06-22 11:19:32</td>\n",
              "      <td>1</td>\n",
              "      <td>9496.98</td>\n",
              "      <td>1</td>\n",
              "      <td>N</td>\n",
              "      <td>193</td>\n",
              "      <td>193</td>\n",
              "      <td>2</td>\n",
              "      <td>9999.99</td>\n",
              "      <td>0.0</td>\n",
              "      <td>0.0</td>\n",
              "      <td>0.00</td>\n",
              "      <td>0.00</td>\n",
              "      <td>0.0</td>\n",
              "      <td>9999.99</td>\n",
              "    </tr>\n",
              "    <tr>\n",
              "      <th>5203847</th>\n",
              "      <td>2</td>\n",
              "      <td>2017-06-19 09:02:27</td>\n",
              "      <td>2017-06-20 15:20:43</td>\n",
              "      <td>1</td>\n",
              "      <td>6545.78</td>\n",
              "      <td>1</td>\n",
              "      <td>N</td>\n",
              "      <td>193</td>\n",
              "      <td>193</td>\n",
              "      <td>2</td>\n",
              "      <td>9999.99</td>\n",
              "      <td>0.0</td>\n",
              "      <td>0.0</td>\n",
              "      <td>0.00</td>\n",
              "      <td>0.00</td>\n",
              "      <td>0.0</td>\n",
              "      <td>9999.99</td>\n",
              "    </tr>\n",
              "    <tr>\n",
              "      <th>4201741</th>\n",
              "      <td>2</td>\n",
              "      <td>2017-06-16 11:47:32</td>\n",
              "      <td>2017-06-19 08:58:12</td>\n",
              "      <td>1</td>\n",
              "      <td>4942.40</td>\n",
              "      <td>1</td>\n",
              "      <td>N</td>\n",
              "      <td>193</td>\n",
              "      <td>193</td>\n",
              "      <td>2</td>\n",
              "      <td>9999.99</td>\n",
              "      <td>0.0</td>\n",
              "      <td>0.0</td>\n",
              "      <td>0.00</td>\n",
              "      <td>0.00</td>\n",
              "      <td>0.0</td>\n",
              "      <td>9999.99</td>\n",
              "    </tr>\n",
              "    <tr>\n",
              "      <th>9218988</th>\n",
              "      <td>2</td>\n",
              "      <td>2017-06-09 16:01:22</td>\n",
              "      <td>2017-06-10 09:48:14</td>\n",
              "      <td>1</td>\n",
              "      <td>4208.94</td>\n",
              "      <td>1</td>\n",
              "      <td>N</td>\n",
              "      <td>193</td>\n",
              "      <td>193</td>\n",
              "      <td>2</td>\n",
              "      <td>9999.99</td>\n",
              "      <td>0.0</td>\n",
              "      <td>0.0</td>\n",
              "      <td>0.00</td>\n",
              "      <td>0.00</td>\n",
              "      <td>0.0</td>\n",
              "      <td>9999.99</td>\n",
              "    </tr>\n",
              "    <tr>\n",
              "      <th>5632690</th>\n",
              "      <td>1</td>\n",
              "      <td>2017-06-28 09:14:26</td>\n",
              "      <td>2017-06-28 09:14:30</td>\n",
              "      <td>1</td>\n",
              "      <td>770.00</td>\n",
              "      <td>1</td>\n",
              "      <td>N</td>\n",
              "      <td>145</td>\n",
              "      <td>145</td>\n",
              "      <td>2</td>\n",
              "      <td>2.50</td>\n",
              "      <td>0.0</td>\n",
              "      <td>0.5</td>\n",
              "      <td>0.00</td>\n",
              "      <td>0.00</td>\n",
              "      <td>0.3</td>\n",
              "      <td>3.30</td>\n",
              "    </tr>\n",
              "    <tr>\n",
              "      <th>5556688</th>\n",
              "      <td>1</td>\n",
              "      <td>2017-06-28 08:50:36</td>\n",
              "      <td>2017-06-28 08:52:13</td>\n",
              "      <td>1</td>\n",
              "      <td>770.00</td>\n",
              "      <td>1</td>\n",
              "      <td>N</td>\n",
              "      <td>226</td>\n",
              "      <td>264</td>\n",
              "      <td>2</td>\n",
              "      <td>2.50</td>\n",
              "      <td>0.0</td>\n",
              "      <td>0.5</td>\n",
              "      <td>0.00</td>\n",
              "      <td>0.00</td>\n",
              "      <td>0.3</td>\n",
              "      <td>3.30</td>\n",
              "    </tr>\n",
              "    <tr>\n",
              "      <th>3527931</th>\n",
              "      <td>1</td>\n",
              "      <td>2017-06-14 14:20:34</td>\n",
              "      <td>2017-06-14 14:31:56</td>\n",
              "      <td>2</td>\n",
              "      <td>733.40</td>\n",
              "      <td>2</td>\n",
              "      <td>N</td>\n",
              "      <td>186</td>\n",
              "      <td>137</td>\n",
              "      <td>3</td>\n",
              "      <td>12837.45</td>\n",
              "      <td>0.0</td>\n",
              "      <td>53.8</td>\n",
              "      <td>0.00</td>\n",
              "      <td>0.00</td>\n",
              "      <td>0.0</td>\n",
              "      <td>12891.25</td>\n",
              "    </tr>\n",
              "    <tr>\n",
              "      <th>2477886</th>\n",
              "      <td>1</td>\n",
              "      <td>2017-11-08 17:26:12</td>\n",
              "      <td>2017-11-08 17:44:05</td>\n",
              "      <td>2</td>\n",
              "      <td>702.50</td>\n",
              "      <td>1</td>\n",
              "      <td>N</td>\n",
              "      <td>231</td>\n",
              "      <td>107</td>\n",
              "      <td>1</td>\n",
              "      <td>12.50</td>\n",
              "      <td>1.0</td>\n",
              "      <td>0.5</td>\n",
              "      <td>2.50</td>\n",
              "      <td>0.00</td>\n",
              "      <td>0.3</td>\n",
              "      <td>16.80</td>\n",
              "    </tr>\n",
              "    <tr>\n",
              "      <th>481809</th>\n",
              "      <td>1</td>\n",
              "      <td>2017-03-01 10:57:35</td>\n",
              "      <td>2017-03-01 11:18:15</td>\n",
              "      <td>1</td>\n",
              "      <td>598.50</td>\n",
              "      <td>1</td>\n",
              "      <td>N</td>\n",
              "      <td>246</td>\n",
              "      <td>230</td>\n",
              "      <td>1</td>\n",
              "      <td>14.50</td>\n",
              "      <td>0.0</td>\n",
              "      <td>0.5</td>\n",
              "      <td>3.05</td>\n",
              "      <td>0.00</td>\n",
              "      <td>0.3</td>\n",
              "      <td>18.35</td>\n",
              "    </tr>\n",
              "    <tr>\n",
              "      <th>3493783</th>\n",
              "      <td>1</td>\n",
              "      <td>2017-11-11 15:09:50</td>\n",
              "      <td>2017-11-11 22:47:49</td>\n",
              "      <td>4</td>\n",
              "      <td>396.30</td>\n",
              "      <td>5</td>\n",
              "      <td>N</td>\n",
              "      <td>265</td>\n",
              "      <td>265</td>\n",
              "      <td>2</td>\n",
              "      <td>400.00</td>\n",
              "      <td>0.0</td>\n",
              "      <td>0.0</td>\n",
              "      <td>0.00</td>\n",
              "      <td>10.76</td>\n",
              "      <td>0.3</td>\n",
              "      <td>411.06</td>\n",
              "    </tr>\n",
              "    <tr>\n",
              "      <th>7220015</th>\n",
              "      <td>2</td>\n",
              "      <td>2017-11-24 00:00:00</td>\n",
              "      <td>2017-11-24 00:00:00</td>\n",
              "      <td>1</td>\n",
              "      <td>386.58</td>\n",
              "      <td>5</td>\n",
              "      <td>N</td>\n",
              "      <td>265</td>\n",
              "      <td>265</td>\n",
              "      <td>2</td>\n",
              "      <td>3.00</td>\n",
              "      <td>0.0</td>\n",
              "      <td>0.5</td>\n",
              "      <td>0.00</td>\n",
              "      <td>0.00</td>\n",
              "      <td>0.3</td>\n",
              "      <td>3.80</td>\n",
              "    </tr>\n",
              "    <tr>\n",
              "      <th>3361245</th>\n",
              "      <td>1</td>\n",
              "      <td>2017-11-11 03:13:06</td>\n",
              "      <td>2017-11-11 10:14:16</td>\n",
              "      <td>4</td>\n",
              "      <td>381.50</td>\n",
              "      <td>5</td>\n",
              "      <td>Y</td>\n",
              "      <td>265</td>\n",
              "      <td>265</td>\n",
              "      <td>2</td>\n",
              "      <td>400.00</td>\n",
              "      <td>0.0</td>\n",
              "      <td>0.0</td>\n",
              "      <td>0.00</td>\n",
              "      <td>16.26</td>\n",
              "      <td>0.3</td>\n",
              "      <td>416.56</td>\n",
              "    </tr>\n",
              "    <tr>\n",
              "      <th>8271760</th>\n",
              "      <td>1</td>\n",
              "      <td>2017-06-30 16:51:15</td>\n",
              "      <td>2017-07-01 00:36:28</td>\n",
              "      <td>1</td>\n",
              "      <td>370.20</td>\n",
              "      <td>5</td>\n",
              "      <td>N</td>\n",
              "      <td>186</td>\n",
              "      <td>6</td>\n",
              "      <td>2</td>\n",
              "      <td>0.00</td>\n",
              "      <td>0.0</td>\n",
              "      <td>0.0</td>\n",
              "      <td>0.00</td>\n",
              "      <td>0.00</td>\n",
              "      <td>0.3</td>\n",
              "      <td>0.30</td>\n",
              "    </tr>\n",
              "    <tr>\n",
              "      <th>1379363</th>\n",
              "      <td>1</td>\n",
              "      <td>2017-03-03 17:37:17</td>\n",
              "      <td>2017-03-04 03:21:05</td>\n",
              "      <td>1</td>\n",
              "      <td>332.40</td>\n",
              "      <td>1</td>\n",
              "      <td>N</td>\n",
              "      <td>144</td>\n",
              "      <td>17</td>\n",
              "      <td>3</td>\n",
              "      <td>898.50</td>\n",
              "      <td>1.0</td>\n",
              "      <td>0.5</td>\n",
              "      <td>0.00</td>\n",
              "      <td>29.50</td>\n",
              "      <td>0.3</td>\n",
              "      <td>929.80</td>\n",
              "    </tr>\n",
              "    <tr>\n",
              "      <th>7011327</th>\n",
              "      <td>1</td>\n",
              "      <td>2017-06-24 07:30:45</td>\n",
              "      <td>2017-06-24 07:36:28</td>\n",
              "      <td>1</td>\n",
              "      <td>301.10</td>\n",
              "      <td>1</td>\n",
              "      <td>N</td>\n",
              "      <td>48</td>\n",
              "      <td>170</td>\n",
              "      <td>1</td>\n",
              "      <td>6.50</td>\n",
              "      <td>0.0</td>\n",
              "      <td>0.5</td>\n",
              "      <td>2.00</td>\n",
              "      <td>0.00</td>\n",
              "      <td>0.3</td>\n",
              "      <td>9.30</td>\n",
              "    </tr>\n",
              "    <tr>\n",
              "      <th>4586446</th>\n",
              "      <td>2</td>\n",
              "      <td>2017-11-15 05:09:33</td>\n",
              "      <td>2017-11-15 11:03:37</td>\n",
              "      <td>1</td>\n",
              "      <td>277.56</td>\n",
              "      <td>5</td>\n",
              "      <td>N</td>\n",
              "      <td>246</td>\n",
              "      <td>162</td>\n",
              "      <td>1</td>\n",
              "      <td>400.00</td>\n",
              "      <td>0.0</td>\n",
              "      <td>0.5</td>\n",
              "      <td>0.00</td>\n",
              "      <td>10.50</td>\n",
              "      <td>0.3</td>\n",
              "      <td>411.30</td>\n",
              "    </tr>\n",
              "    <tr>\n",
              "      <th>6222793</th>\n",
              "      <td>1</td>\n",
              "      <td>2017-03-18 22:43:45</td>\n",
              "      <td>2017-03-19 03:25:06</td>\n",
              "      <td>1</td>\n",
              "      <td>277.10</td>\n",
              "      <td>5</td>\n",
              "      <td>N</td>\n",
              "      <td>132</td>\n",
              "      <td>265</td>\n",
              "      <td>1</td>\n",
              "      <td>250.00</td>\n",
              "      <td>0.0</td>\n",
              "      <td>0.0</td>\n",
              "      <td>0.00</td>\n",
              "      <td>0.00</td>\n",
              "      <td>0.3</td>\n",
              "      <td>250.30</td>\n",
              "    </tr>\n",
              "    <tr>\n",
              "      <th>657219</th>\n",
              "      <td>1</td>\n",
              "      <td>2017-03-01 20:05:39</td>\n",
              "      <td>2017-03-02 00:20:50</td>\n",
              "      <td>1</td>\n",
              "      <td>270.10</td>\n",
              "      <td>5</td>\n",
              "      <td>N</td>\n",
              "      <td>186</td>\n",
              "      <td>16</td>\n",
              "      <td>2</td>\n",
              "      <td>0.00</td>\n",
              "      <td>0.0</td>\n",
              "      <td>0.0</td>\n",
              "      <td>0.00</td>\n",
              "      <td>11.08</td>\n",
              "      <td>0.3</td>\n",
              "      <td>11.38</td>\n",
              "    </tr>\n",
              "    <tr>\n",
              "      <th>1478228</th>\n",
              "      <td>1</td>\n",
              "      <td>2017-06-04 07:51:19</td>\n",
              "      <td>2017-06-04 13:27:51</td>\n",
              "      <td>3</td>\n",
              "      <td>249.20</td>\n",
              "      <td>5</td>\n",
              "      <td>N</td>\n",
              "      <td>228</td>\n",
              "      <td>265</td>\n",
              "      <td>2</td>\n",
              "      <td>0.00</td>\n",
              "      <td>0.0</td>\n",
              "      <td>0.0</td>\n",
              "      <td>0.00</td>\n",
              "      <td>12.50</td>\n",
              "      <td>0.3</td>\n",
              "      <td>12.80</td>\n",
              "    </tr>\n",
              "    <tr>\n",
              "      <th>1561642</th>\n",
              "      <td>1</td>\n",
              "      <td>2017-06-04 13:53:31</td>\n",
              "      <td>2017-06-04 13:54:45</td>\n",
              "      <td>3</td>\n",
              "      <td>249.20</td>\n",
              "      <td>5</td>\n",
              "      <td>N</td>\n",
              "      <td>265</td>\n",
              "      <td>265</td>\n",
              "      <td>2</td>\n",
              "      <td>285.00</td>\n",
              "      <td>0.0</td>\n",
              "      <td>0.0</td>\n",
              "      <td>0.00</td>\n",
              "      <td>0.00</td>\n",
              "      <td>0.3</td>\n",
              "      <td>285.30</td>\n",
              "    </tr>\n",
              "  </tbody>\n",
              "</table>\n",
              "</div>"
            ],
            "text/plain": [
              "         VendorID tpep_pickup_datetime  ... improvement_surcharge  total_amount\n",
              "5640037         2  2017-06-20 15:21:21  ...                   0.0       9999.99\n",
              "5203847         2  2017-06-19 09:02:27  ...                   0.0       9999.99\n",
              "4201741         2  2017-06-16 11:47:32  ...                   0.0       9999.99\n",
              "9218988         2  2017-06-09 16:01:22  ...                   0.0       9999.99\n",
              "5632690         1  2017-06-28 09:14:26  ...                   0.3          3.30\n",
              "5556688         1  2017-06-28 08:50:36  ...                   0.3          3.30\n",
              "3527931         1  2017-06-14 14:20:34  ...                   0.0      12891.25\n",
              "2477886         1  2017-11-08 17:26:12  ...                   0.3         16.80\n",
              "481809          1  2017-03-01 10:57:35  ...                   0.3         18.35\n",
              "3493783         1  2017-11-11 15:09:50  ...                   0.3        411.06\n",
              "7220015         2  2017-11-24 00:00:00  ...                   0.3          3.80\n",
              "3361245         1  2017-11-11 03:13:06  ...                   0.3        416.56\n",
              "8271760         1  2017-06-30 16:51:15  ...                   0.3          0.30\n",
              "1379363         1  2017-03-03 17:37:17  ...                   0.3        929.80\n",
              "7011327         1  2017-06-24 07:30:45  ...                   0.3          9.30\n",
              "4586446         2  2017-11-15 05:09:33  ...                   0.3        411.30\n",
              "6222793         1  2017-03-18 22:43:45  ...                   0.3        250.30\n",
              "657219          1  2017-03-01 20:05:39  ...                   0.3         11.38\n",
              "1478228         1  2017-06-04 07:51:19  ...                   0.3         12.80\n",
              "1561642         1  2017-06-04 13:53:31  ...                   0.3        285.30\n",
              "\n",
              "[20 rows x 17 columns]"
            ]
          },
          "metadata": {
            "tags": []
          },
          "execution_count": 12
        }
      ]
    },
    {
      "cell_type": "markdown",
      "metadata": {
        "id": "FvlgUih3FE-4",
        "colab_type": "text"
      },
      "source": [
        "We see non-sense values for the **total_amount** corresponding to large distances. For this reason and since these distances are extreme, we remove the values above the 99.99% quantile (40.37 miles). Also the trips with 0 miles."
      ]
    },
    {
      "cell_type": "code",
      "metadata": {
        "id": "uag8yhWn-YhN",
        "colab_type": "code",
        "colab": {}
      },
      "source": [
        "df = df[(df['trip_distance'] > 0) & (df['trip_distance'] < df['trip_distance'].quantile(0.9999))]"
      ],
      "execution_count": null,
      "outputs": []
    },
    {
      "cell_type": "markdown",
      "metadata": {
        "id": "5x9D_G4qbTrj",
        "colab_type": "text"
      },
      "source": [
        "* **RatecodeID**: In the dictionary values range from 1 to 6, but in the pandas profile-report there are RatecodeID with values of 99 (initially 524 times). Check if there remain some:"
      ]
    },
    {
      "cell_type": "code",
      "metadata": {
        "id": "MW5kg-cW-Yjx",
        "colab_type": "code",
        "colab": {
          "base_uri": "https://localhost:8080/",
          "height": 51
        },
        "outputId": "0413c52d-4046-4884-d93e-7d7546077f1c"
      },
      "source": [
        "print(df['RatecodeID'].unique())\n",
        "df[df['RatecodeID'] == 99].shape[0]"
      ],
      "execution_count": null,
      "outputs": [
        {
          "output_type": "stream",
          "text": [
            "[ 1  2  5  3  4  6 99]\n"
          ],
          "name": "stdout"
        },
        {
          "output_type": "execute_result",
          "data": {
            "text/plain": [
              "8"
            ]
          },
          "metadata": {
            "tags": []
          },
          "execution_count": 16
        }
      ]
    },
    {
      "cell_type": "markdown",
      "metadata": {
        "id": "3S2xOQ-5J1sW",
        "colab_type": "text"
      },
      "source": [
        "Remove those 99."
      ]
    },
    {
      "cell_type": "code",
      "metadata": {
        "id": "JsSsddQE-YmA",
        "colab_type": "code",
        "colab": {}
      },
      "source": [
        "df = df[df['RatecodeID'] < 99]"
      ],
      "execution_count": null,
      "outputs": []
    },
    {
      "cell_type": "markdown",
      "metadata": {
        "id": "mp50N1u5dZcj",
        "colab_type": "text"
      },
      "source": [
        "* **store_and_fwd_flag**: This flag indicates whether the trip record was held in vehicle memory before sending to the vendor, aka “store and forward,” because the vehicle did not have a connection to the server. **Y** = store and  forward trip. **N** = not a store and forward trip.\n",
        "\n",
        "Although the Y flag is the minority class, nothing looks wrong with it.\n"
      ]
    },
    {
      "cell_type": "code",
      "metadata": {
        "id": "lLyzCxe_-YoQ",
        "colab_type": "code",
        "colab": {
          "base_uri": "https://localhost:8080/",
          "height": 331
        },
        "outputId": "09e80af0-0fea-4df8-b7cd-81e93a00d872"
      },
      "source": [
        "df['store_and_fwd_flag'].hist(bins=3, figsize=(7,5))\n",
        "plt.show()"
      ],
      "execution_count": null,
      "outputs": [
        {
          "output_type": "display_data",
          "data": {
            "image/png": "[encoded data removed]",
            "text/plain": [
              "<Figure size 504x360 with 1 Axes>"
            ]
          },
          "metadata": {
            "tags": [],
            "needs_background": "light"
          }
        }
      ]
    },
    {
      "cell_type": "markdown",
      "metadata": {
        "id": "cqCe174BgrOG",
        "colab_type": "text"
      },
      "source": [
        "Let's convert these flags into numbers in case we later use it as a predictor and to consider it in other possible analyses (such as the correlation heatmap). 1 for N and 0 for Y:"
      ]
    },
    {
      "cell_type": "code",
      "metadata": {
        "id": "oA3SMG0w-YqW",
        "colab_type": "code",
        "colab": {}
      },
      "source": [
        "df['store_and_fwd_flag'] = df['store_and_fwd_flag'].apply(lambda row: 0 if row == \"Y\" else 1)"
      ],
      "execution_count": null,
      "outputs": []
    },
    {
      "cell_type": "markdown",
      "metadata": {
        "id": "qNj6GUgmiIuV",
        "colab_type": "text"
      },
      "source": [
        "* **PULocationID** and **DOLocationID**: Taxi Zones in which the taximeter was turned on and turned off, correpondingly. Nothing wrong with this column. One question to test would be if there is a correlation between the zones where taximeter turns on/off and the tips. Maybe people from wealthy neighborhoods give more and larger tips."
      ]
    },
    {
      "cell_type": "code",
      "metadata": {
        "id": "o6iC7t61-Yuv",
        "colab_type": "code",
        "colab": {
          "base_uri": "https://localhost:8080/",
          "height": 276
        },
        "outputId": "c3f9316a-82c6-4993-848f-63b6ab58ccd5"
      },
      "source": [
        "df['PULocationID'].hist(bins=50, alpha=0.4)\n",
        "df['DOLocationID'].hist(bins=50, alpha=0.4) \n",
        "labels= [\"PULocationID\",\"DOLocationID\"]\n",
        "plt.legend(labels)\n",
        "plt.show()"
      ],
      "execution_count": null,
      "outputs": [
        {
          "output_type": "display_data",
          "data": {
            "image/png": "[encoded data removed]",
            "text/plain": [
              "<Figure size 432x288 with 1 Axes>"
            ]
          },
          "metadata": {
            "tags": [],
            "needs_background": "light"
          }
        }
      ]
    },
    {
      "cell_type": "markdown",
      "metadata": {
        "id": "hjdMBKzOm8UQ",
        "colab_type": "text"
      },
      "source": [
        "* **payment_type**: As we will see with **tip_amount**, only credit card tips are automatically populated. The other payment types (no charge, dispute, unknown and voided trip) will also be removed."
      ]
    },
    {
      "cell_type": "code",
      "metadata": {
        "id": "ige0FKDmom2R",
        "colab_type": "code",
        "colab": {}
      },
      "source": [
        "df = df[df['payment_type'] == 1]"
      ],
      "execution_count": null,
      "outputs": []
    },
    {
      "cell_type": "markdown",
      "metadata": {
        "id": "FWg0mjQ3gH_k",
        "colab_type": "text"
      },
      "source": [
        "Drop that column, which now has a unique value."
      ]
    },
    {
      "cell_type": "code",
      "metadata": {
        "id": "5g_bYLN5f5bb",
        "colab_type": "code",
        "colab": {}
      },
      "source": [
        "df.drop(['payment_type'], axis=1, inplace=True)"
      ],
      "execution_count": null,
      "outputs": []
    },
    {
      "cell_type": "markdown",
      "metadata": {
        "id": "5mDQ3Gkxor6h",
        "colab_type": "text"
      },
      "source": [
        "* **fare_amount**: Initially there were negative values and zeros. Also very large values (the maximum before starting processing was 630461.82)."
      ]
    },
    {
      "cell_type": "code",
      "metadata": {
        "id": "tSqh-KWLPOHc",
        "colab_type": "code",
        "colab": {
          "base_uri": "https://localhost:8080/",
          "height": 279
        },
        "outputId": "8302e617-ffcb-4b92-d8f5-a67bd5136aa9"
      },
      "source": [
        "plt.scatter(df['fare_amount'], df['trip_distance'], alpha = 0.3, s = 10)\n",
        "plt.xlabel(\"Fare Amount\")\n",
        "plt.ylabel(\"Trip Distance\")\n",
        "plt.show()"
      ],
      "execution_count": null,
      "outputs": [
        {
          "output_type": "display_data",
          "data": {
            "image/png": "[encoded data removed]",
            "text/plain": [
              "<Figure size 432x288 with 1 Axes>"
            ]
          },
          "metadata": {
            "tags": [],
            "needs_background": "light"
          }
        }
      ]
    },
    {
      "cell_type": "markdown",
      "metadata": {
        "id": "eIJPqwtTSlh4",
        "colab_type": "text"
      },
      "source": [
        "In general there tend to be a linear relationship between the fare amount and the trip distance. There is a constant fare amount at 52\\$, that corresponds to the ratecode ID nr 2 (JFK airport). Some high-fare trips with very short distances could be related to services in which the taxi driver was stopped for a long time, so we won't discard until checking the trip duration."
      ]
    },
    {
      "cell_type": "code",
      "metadata": {
        "id": "OsXV7Nol8HFE",
        "colab_type": "code",
        "colab": {
          "base_uri": "https://localhost:8080/",
          "height": 359
        },
        "outputId": "93855a87-557f-4463-e1cd-799ab21f639c"
      },
      "source": [
        "df[['fare_amount','RatecodeID']][df['fare_amount'] == 52].head(10)"
      ],
      "execution_count": null,
      "outputs": [
        {
          "output_type": "execute_result",
          "data": {
            "text/html": [
              "<div>\n",
              "<style scoped>\n",
              "    .dataframe tbody tr th:only-of-type {\n",
              "        vertical-align: middle;\n",
              "    }\n",
              "\n",
              "    .dataframe tbody tr th {\n",
              "        vertical-align: top;\n",
              "    }\n",
              "\n",
              "    .dataframe thead th {\n",
              "        text-align: right;\n",
              "    }\n",
              "</style>\n",
              "<table border=\"1\" class=\"dataframe\">\n",
              "  <thead>\n",
              "    <tr style=\"text-align: right;\">\n",
              "      <th></th>\n",
              "      <th>fare_amount</th>\n",
              "      <th>RatecodeID</th>\n",
              "    </tr>\n",
              "  </thead>\n",
              "  <tbody>\n",
              "    <tr>\n",
              "      <th>38</th>\n",
              "      <td>52.0</td>\n",
              "      <td>2</td>\n",
              "    </tr>\n",
              "    <tr>\n",
              "      <th>55</th>\n",
              "      <td>52.0</td>\n",
              "      <td>2</td>\n",
              "    </tr>\n",
              "    <tr>\n",
              "      <th>59</th>\n",
              "      <td>52.0</td>\n",
              "      <td>2</td>\n",
              "    </tr>\n",
              "    <tr>\n",
              "      <th>142</th>\n",
              "      <td>52.0</td>\n",
              "      <td>2</td>\n",
              "    </tr>\n",
              "    <tr>\n",
              "      <th>183</th>\n",
              "      <td>52.0</td>\n",
              "      <td>2</td>\n",
              "    </tr>\n",
              "    <tr>\n",
              "      <th>193</th>\n",
              "      <td>52.0</td>\n",
              "      <td>2</td>\n",
              "    </tr>\n",
              "    <tr>\n",
              "      <th>231</th>\n",
              "      <td>52.0</td>\n",
              "      <td>2</td>\n",
              "    </tr>\n",
              "    <tr>\n",
              "      <th>266</th>\n",
              "      <td>52.0</td>\n",
              "      <td>2</td>\n",
              "    </tr>\n",
              "    <tr>\n",
              "      <th>292</th>\n",
              "      <td>52.0</td>\n",
              "      <td>2</td>\n",
              "    </tr>\n",
              "    <tr>\n",
              "      <th>382</th>\n",
              "      <td>52.0</td>\n",
              "      <td>2</td>\n",
              "    </tr>\n",
              "  </tbody>\n",
              "</table>\n",
              "</div>"
            ],
            "text/plain": [
              "     fare_amount  RatecodeID\n",
              "38          52.0           2\n",
              "55          52.0           2\n",
              "59          52.0           2\n",
              "142         52.0           2\n",
              "183         52.0           2\n",
              "193         52.0           2\n",
              "231         52.0           2\n",
              "266         52.0           2\n",
              "292         52.0           2\n",
              "382         52.0           2"
            ]
          },
          "metadata": {
            "tags": []
          },
          "execution_count": 24
        }
      ]
    },
    {
      "cell_type": "markdown",
      "metadata": {
        "id": "_baXjp3_-FrG",
        "colab_type": "text"
      },
      "source": [
        "We remove the rows with **fare amount** less or equal to zero and the ones above the 99.99% quantile:"
      ]
    },
    {
      "cell_type": "code",
      "metadata": {
        "id": "jfgmjk379hpo",
        "colab_type": "code",
        "colab": {}
      },
      "source": [
        "df = df[(df['fare_amount'] > 0) & (df['fare_amount'] < df['fare_amount'].quantile(0.9999))]"
      ],
      "execution_count": null,
      "outputs": []
    },
    {
      "cell_type": "markdown",
      "metadata": {
        "id": "2IjAyxkjYoaI",
        "colab_type": "text"
      },
      "source": [
        "* **extra**: It contains negative values.\n",
        "\n",
        "  > 0: No extra charge.\n",
        "\n",
        "  > 0.5 & 1: Rush hour and overnight extras.\n",
        "\n",
        "  > Other: Miscellaneous? "
      ]
    },
    {
      "cell_type": "code",
      "metadata": {
        "id": "XGu-9jIQLS5M",
        "colab_type": "code",
        "colab": {
          "base_uri": "https://localhost:8080/",
          "height": 629
        },
        "outputId": "d3550e46-8e96-4183-9e59-87e105c79685"
      },
      "source": [
        "df['extra'].value_counts()"
      ],
      "execution_count": null,
      "outputs": [
        {
          "output_type": "execute_result",
          "data": {
            "text/plain": [
              " 0.00     10104261\n",
              " 0.50      6364251\n",
              " 1.00      3182036\n",
              " 4.50        80316\n",
              " 0.02           24\n",
              " 1.50           20\n",
              " 0.30           14\n",
              " 4.54           10\n",
              " 2.00            4\n",
              " 1.01            4\n",
              " 6.52            4\n",
              " 2.50            2\n",
              "-0.50            2\n",
              " 3.50            2\n",
              " 0.70            2\n",
              " 10.00           1\n",
              "-42.50           1\n",
              " 0.60            1\n",
              " 6.00            1\n",
              " 5.00            1\n",
              "-0.49            1\n",
              " 3.00            1\n",
              " 0.75            1\n",
              " 69.80           1\n",
              "-6.60            1\n",
              " 64.20           1\n",
              "-38.60           1\n",
              "-0.45            1\n",
              " 0.95            1\n",
              "-10.60           1\n",
              "-12.60           1\n",
              " 0.45            1\n",
              " 1.30            1\n",
              " 1.45            1\n",
              " 0.80            1\n",
              "Name: extra, dtype: int64"
            ]
          },
          "metadata": {
            "tags": []
          },
          "execution_count": 32
        }
      ]
    },
    {
      "cell_type": "markdown",
      "metadata": {
        "id": "P9sqtgz9bi3D",
        "colab_type": "text"
      },
      "source": [
        "There are mostly 0, 0.5, 1 and 4.5. The 4.5 charge is not specified in the dictionary, but it has to be related to some constant extra, like extra luggage. We discard the rest and investigate the origin of 4.5 in the \"Data Summary\" notebook."
      ]
    },
    {
      "cell_type": "code",
      "metadata": {
        "id": "PyrrOHGqVJlb",
        "colab_type": "code",
        "colab": {}
      },
      "source": [
        "df = df[(df['extra'] == 0) | (df['extra'] == 0.5) | (df['extra'] == 1) | (df['extra'] == 4.5)]"
      ],
      "execution_count": null,
      "outputs": []
    },
    {
      "cell_type": "markdown",
      "metadata": {
        "id": "EKjlvOnE8B2Q",
        "colab_type": "text"
      },
      "source": [
        "* **mta_tax**: It is supposed to be automatically 0.5, but there are other values, so we remove the rows with numbers different from 0.5 and 0 (0 because it has to be some error that should not affect the tips). We remove this column afterwards, since a constant will not provide predictive information in the model. "
      ]
    },
    {
      "cell_type": "code",
      "metadata": {
        "id": "VcRTa0eRAROM",
        "colab_type": "code",
        "colab": {
          "base_uri": "https://localhost:8080/",
          "height": 153
        },
        "outputId": "3c343abe-e665-4f93-d488-78a4be58a309"
      },
      "source": [
        "df['mta_tax'].value_counts()"
      ],
      "execution_count": null,
      "outputs": [
        {
          "output_type": "execute_result",
          "data": {
            "text/plain": [
              "0.50    19662680\n",
              "0.00       67733\n",
              "0.85         444\n",
              "0.37           3\n",
              "7.68           2\n",
              "0.78           1\n",
              "0.93           1\n",
              "Name: mta_tax, dtype: int64"
            ]
          },
          "metadata": {
            "tags": []
          },
          "execution_count": 35
        }
      ]
    },
    {
      "cell_type": "code",
      "metadata": {
        "id": "m67myBi9ARQ1",
        "colab_type": "code",
        "colab": {}
      },
      "source": [
        "df = df[(df['mta_tax'] == 0.5) | (df['mta_tax'] == 0)]"
      ],
      "execution_count": null,
      "outputs": []
    },
    {
      "cell_type": "code",
      "metadata": {
        "id": "GNFAx4K_DB-e",
        "colab_type": "code",
        "colab": {}
      },
      "source": [
        "df.drop(['mta_tax'], axis=1, inplace=True)"
      ],
      "execution_count": null,
      "outputs": []
    },
    {
      "cell_type": "markdown",
      "metadata": {
        "id": "68dqXpmEFKj_",
        "colab_type": "text"
      },
      "source": [
        "* **tolls_amount**: There are some extreme values that we will remove."
      ]
    },
    {
      "cell_type": "code",
      "metadata": {
        "id": "RYwpFV8MARZW",
        "colab_type": "code",
        "colab": {
          "base_uri": "https://localhost:8080/",
          "height": 170
        },
        "outputId": "5a68cc6b-ccd0-4cea-949f-4b688553ccc7"
      },
      "source": [
        "df['tolls_amount'].describe()"
      ],
      "execution_count": null,
      "outputs": [
        {
          "output_type": "execute_result",
          "data": {
            "text/plain": [
              "count    1.973041e+07\n",
              "mean     3.704633e-01\n",
              "std      1.569822e+00\n",
              "min      0.000000e+00\n",
              "25%      0.000000e+00\n",
              "50%      0.000000e+00\n",
              "75%      0.000000e+00\n",
              "max      2.124700e+02\n",
              "Name: tolls_amount, dtype: float64"
            ]
          },
          "metadata": {
            "tags": []
          },
          "execution_count": 40
        }
      ]
    },
    {
      "cell_type": "code",
      "metadata": {
        "id": "oLzp52hIAReS",
        "colab_type": "code",
        "colab": {
          "base_uri": "https://localhost:8080/",
          "height": 280
        },
        "outputId": "7f468a7e-8e0e-4409-dbee-61c51e36361f"
      },
      "source": [
        "ax = sns.distplot(df['tolls_amount'])"
      ],
      "execution_count": null,
      "outputs": [
        {
          "output_type": "display_data",
          "data": {
            "image/png": "[encoded data removed]",
            "text/plain": [
              "<Figure size 432x288 with 1 Axes>"
            ]
          },
          "metadata": {
            "tags": [],
            "needs_background": "light"
          }
        }
      ]
    },
    {
      "cell_type": "code",
      "metadata": {
        "id": "KXuESC8t_izL",
        "colab_type": "code",
        "colab": {}
      },
      "source": [
        "df = df[df['tolls_amount'] < df['tolls_amount'].quantile(0.9999)]"
      ],
      "execution_count": null,
      "outputs": []
    },
    {
      "cell_type": "markdown",
      "metadata": {
        "id": "xSnH2MdTM610",
        "colab_type": "text"
      },
      "source": [
        "* **improvement_surcharge**: It should be 0.3."
      ]
    },
    {
      "cell_type": "code",
      "metadata": {
        "id": "0w2uxT4jARTh",
        "colab_type": "code",
        "colab": {
          "base_uri": "https://localhost:8080/",
          "height": 68
        },
        "outputId": "b63351ef-5546-4e0f-b18a-0ed66f4fdda0"
      },
      "source": [
        "df['improvement_surcharge'].value_counts()"
      ],
      "execution_count": null,
      "outputs": [
        {
          "output_type": "execute_result",
          "data": {
            "text/plain": [
              "0.3    19728129\n",
              "0.0         218\n",
              "Name: improvement_surcharge, dtype: int64"
            ]
          },
          "metadata": {
            "tags": []
          },
          "execution_count": 47
        }
      ]
    },
    {
      "cell_type": "code",
      "metadata": {
        "id": "TqEuwZKyOmyF",
        "colab_type": "code",
        "colab": {
          "base_uri": "https://localhost:8080/",
          "height": 224
        },
        "outputId": "309c67f3-fa4c-435e-c73e-5b3e79a4eb97"
      },
      "source": [
        "df[df['improvement_surcharge'] == 0].head()"
      ],
      "execution_count": null,
      "outputs": [
        {
          "output_type": "execute_result",
          "data": {
            "text/html": [
              "<div>\n",
              "<style scoped>\n",
              "    .dataframe tbody tr th:only-of-type {\n",
              "        vertical-align: middle;\n",
              "    }\n",
              "\n",
              "    .dataframe tbody tr th {\n",
              "        vertical-align: top;\n",
              "    }\n",
              "\n",
              "    .dataframe thead th {\n",
              "        text-align: right;\n",
              "    }\n",
              "</style>\n",
              "<table border=\"1\" class=\"dataframe\">\n",
              "  <thead>\n",
              "    <tr style=\"text-align: right;\">\n",
              "      <th></th>\n",
              "      <th>VendorID</th>\n",
              "      <th>tpep_pickup_datetime</th>\n",
              "      <th>tpep_dropoff_datetime</th>\n",
              "      <th>passenger_count</th>\n",
              "      <th>trip_distance</th>\n",
              "      <th>RatecodeID</th>\n",
              "      <th>store_and_fwd_flag</th>\n",
              "      <th>PULocationID</th>\n",
              "      <th>DOLocationID</th>\n",
              "      <th>fare_amount</th>\n",
              "      <th>extra</th>\n",
              "      <th>tip_amount</th>\n",
              "      <th>tolls_amount</th>\n",
              "      <th>improvement_surcharge</th>\n",
              "      <th>total_amount</th>\n",
              "    </tr>\n",
              "  </thead>\n",
              "  <tbody>\n",
              "    <tr>\n",
              "      <th>290962</th>\n",
              "      <td>2</td>\n",
              "      <td>2017-03-11 04:13:10</td>\n",
              "      <td>2017-03-11 04:14:53</td>\n",
              "      <td>2</td>\n",
              "      <td>0.06</td>\n",
              "      <td>5</td>\n",
              "      <td>1</td>\n",
              "      <td>79</td>\n",
              "      <td>113</td>\n",
              "      <td>90.0</td>\n",
              "      <td>0.0</td>\n",
              "      <td>22.62</td>\n",
              "      <td>0.0</td>\n",
              "      <td>0.0</td>\n",
              "      <td>113.12</td>\n",
              "    </tr>\n",
              "    <tr>\n",
              "      <th>721725</th>\n",
              "      <td>2</td>\n",
              "      <td>2017-03-01 23:28:20</td>\n",
              "      <td>2017-03-01 23:28:20</td>\n",
              "      <td>2</td>\n",
              "      <td>0.01</td>\n",
              "      <td>5</td>\n",
              "      <td>1</td>\n",
              "      <td>264</td>\n",
              "      <td>170</td>\n",
              "      <td>60.0</td>\n",
              "      <td>0.0</td>\n",
              "      <td>12.00</td>\n",
              "      <td>0.0</td>\n",
              "      <td>0.0</td>\n",
              "      <td>72.00</td>\n",
              "    </tr>\n",
              "    <tr>\n",
              "      <th>1006649</th>\n",
              "      <td>2</td>\n",
              "      <td>2017-03-02 19:22:50</td>\n",
              "      <td>2017-03-02 19:44:50</td>\n",
              "      <td>1</td>\n",
              "      <td>4.00</td>\n",
              "      <td>1</td>\n",
              "      <td>1</td>\n",
              "      <td>264</td>\n",
              "      <td>90</td>\n",
              "      <td>17.0</td>\n",
              "      <td>1.0</td>\n",
              "      <td>0.00</td>\n",
              "      <td>0.0</td>\n",
              "      <td>0.0</td>\n",
              "      <td>18.50</td>\n",
              "    </tr>\n",
              "    <tr>\n",
              "      <th>1608956</th>\n",
              "      <td>2</td>\n",
              "      <td>2017-03-04 04:01:57</td>\n",
              "      <td>2017-03-04 04:45:37</td>\n",
              "      <td>1</td>\n",
              "      <td>6.30</td>\n",
              "      <td>1</td>\n",
              "      <td>1</td>\n",
              "      <td>255</td>\n",
              "      <td>107</td>\n",
              "      <td>22.5</td>\n",
              "      <td>0.5</td>\n",
              "      <td>0.00</td>\n",
              "      <td>0.0</td>\n",
              "      <td>0.0</td>\n",
              "      <td>23.50</td>\n",
              "    </tr>\n",
              "    <tr>\n",
              "      <th>1632551</th>\n",
              "      <td>2</td>\n",
              "      <td>2017-03-04 08:32:59</td>\n",
              "      <td>2017-03-04 08:50:34</td>\n",
              "      <td>1</td>\n",
              "      <td>0.05</td>\n",
              "      <td>5</td>\n",
              "      <td>1</td>\n",
              "      <td>138</td>\n",
              "      <td>184</td>\n",
              "      <td>35.0</td>\n",
              "      <td>0.0</td>\n",
              "      <td>7.00</td>\n",
              "      <td>0.0</td>\n",
              "      <td>0.0</td>\n",
              "      <td>42.00</td>\n",
              "    </tr>\n",
              "  </tbody>\n",
              "</table>\n",
              "</div>"
            ],
            "text/plain": [
              "         VendorID tpep_pickup_datetime  ... improvement_surcharge  total_amount\n",
              "290962          2  2017-03-11 04:13:10  ...                   0.0        113.12\n",
              "721725          2  2017-03-01 23:28:20  ...                   0.0         72.00\n",
              "1006649         2  2017-03-02 19:22:50  ...                   0.0         18.50\n",
              "1608956         2  2017-03-04 04:01:57  ...                   0.0         23.50\n",
              "1632551         2  2017-03-04 08:32:59  ...                   0.0         42.00\n",
              "\n",
              "[5 rows x 15 columns]"
            ]
          },
          "metadata": {
            "tags": []
          },
          "execution_count": 48
        }
      ]
    },
    {
      "cell_type": "markdown",
      "metadata": {
        "id": "K42nzqV-O30l",
        "colab_type": "text"
      },
      "source": [
        "We will try to find a relationship of those zero **improvement_surcharge** with other variables in the Data Summary notebook. If no relationship, this constant column will be dropped.\n",
        "\n",
        "\n"
      ]
    },
    {
      "cell_type": "markdown",
      "metadata": {
        "id": "cp8oVrXTTU3O",
        "colab_type": "text"
      },
      "source": [
        "* **VendorID**: Everything looks correct. Either 1 or 2 values."
      ]
    },
    {
      "cell_type": "code",
      "metadata": {
        "id": "wEJ1pVY9JPx1",
        "colab_type": "code",
        "colab": {
          "base_uri": "https://localhost:8080/",
          "height": 170
        },
        "outputId": "235dc8e4-5bf1-4a1a-8099-b4ee477dd5ac"
      },
      "source": [
        "df['VendorID'].describe()"
      ],
      "execution_count": null,
      "outputs": [
        {
          "output_type": "execute_result",
          "data": {
            "text/plain": [
              "count    1.972835e+07\n",
              "mean     1.548858e+00\n",
              "std      4.976072e-01\n",
              "min      1.000000e+00\n",
              "25%      1.000000e+00\n",
              "50%      2.000000e+00\n",
              "75%      2.000000e+00\n",
              "max      2.000000e+00\n",
              "Name: VendorID, dtype: float64"
            ]
          },
          "metadata": {
            "tags": []
          },
          "execution_count": 49
        }
      ]
    },
    {
      "cell_type": "markdown",
      "metadata": {
        "id": "qdeAqJ-oTmve",
        "colab_type": "text"
      },
      "source": [
        "* **tpep_pickup_datetime** and\t**tpep_dropoff_datetime**: These are very important variables, since they will allow to investigate potential relationships once the trip times are calculated, as well as the information of the different days of the week and months. In principle, only March, June and November of 2017 have been loaded. First, reformat the dates."
      ]
    },
    {
      "cell_type": "code",
      "metadata": {
        "id": "S3uePwhaJPz5",
        "colab_type": "code",
        "colab": {
          "base_uri": "https://localhost:8080/",
          "height": 102
        },
        "outputId": "052fa8fe-c000-45f0-c4a4-dcdb1e2e0ab0"
      },
      "source": [
        "df['tpep_pickup_datetime'].describe()"
      ],
      "execution_count": null,
      "outputs": [
        {
          "output_type": "execute_result",
          "data": {
            "text/plain": [
              "count                19728347\n",
              "unique                6449332\n",
              "top       2017-11-05 01:12:35\n",
              "freq                       20\n",
              "Name: tpep_pickup_datetime, dtype: object"
            ]
          },
          "metadata": {
            "tags": []
          },
          "execution_count": 50
        }
      ]
    },
    {
      "cell_type": "code",
      "metadata": {
        "id": "u_QSYQ-uJP4T",
        "colab_type": "code",
        "colab": {}
      },
      "source": [
        "df['tpep_pickup_datetime'] = pd.to_datetime(df['tpep_pickup_datetime'], format='%Y-%m-%d %H:%M:%S')\n",
        "df['tpep_dropoff_datetime'] = pd.to_datetime(df['tpep_dropoff_datetime'], format='%Y-%m-%d %H:%M:%S')"
      ],
      "execution_count": null,
      "outputs": []
    },
    {
      "cell_type": "code",
      "metadata": {
        "id": "KqUNDOoJAQbS",
        "colab_type": "code",
        "colab": {
          "base_uri": "https://localhost:8080/",
          "height": 136
        },
        "outputId": "4cf61334-eb24-4901-9bbe-e4c5bcea1582"
      },
      "source": [
        "df['tpep_pickup_datetime'].describe()"
      ],
      "execution_count": null,
      "outputs": [
        {
          "output_type": "execute_result",
          "data": {
            "text/plain": [
              "count                19728347\n",
              "unique                6449332\n",
              "top       2017-11-05 01:12:35\n",
              "freq                       20\n",
              "first     2008-12-31 10:51:28\n",
              "last      2017-12-01 23:46:07\n",
              "Name: tpep_pickup_datetime, dtype: object"
            ]
          },
          "metadata": {
            "tags": []
          },
          "execution_count": 52
        }
      ]
    },
    {
      "cell_type": "code",
      "metadata": {
        "id": "7Sp2zKTAYMlh",
        "colab_type": "code",
        "colab": {
          "base_uri": "https://localhost:8080/",
          "height": 136
        },
        "outputId": "cb9a3a75-c169-4627-9c43-3e5a9ad40e34"
      },
      "source": [
        "df['tpep_dropoff_datetime'].describe()"
      ],
      "execution_count": null,
      "outputs": [
        {
          "output_type": "execute_result",
          "data": {
            "text/plain": [
              "count                19728347\n",
              "unique                6458517\n",
              "top       2017-06-09 00:00:00\n",
              "freq                       50\n",
              "first     2008-12-31 11:23:28\n",
              "last      2017-12-02 00:14:28\n",
              "Name: tpep_dropoff_datetime, dtype: object"
            ]
          },
          "metadata": {
            "tags": []
          },
          "execution_count": 53
        }
      ]
    },
    {
      "cell_type": "markdown",
      "metadata": {
        "id": "gHD2tqbqXPLD",
        "colab_type": "text"
      },
      "source": [
        "There seem to be dates including 2008 as the year. So let's be sure that there aren't more years / months / days out of our range."
      ]
    },
    {
      "cell_type": "code",
      "metadata": {
        "id": "bz3m1dpxJQG-",
        "colab_type": "code",
        "colab": {
          "base_uri": "https://localhost:8080/",
          "height": 51
        },
        "outputId": "3789f4c6-c294-4e10-ca6f-a849b239e379"
      },
      "source": [
        "print(sorted(df['tpep_pickup_datetime'].dt.year.unique()))\n",
        "print(sorted(df['tpep_dropoff_datetime'].dt.year.unique()))"
      ],
      "execution_count": null,
      "outputs": [
        {
          "output_type": "stream",
          "text": [
            "[2008, 2009, 2017]\n",
            "[2008, 2009, 2017]\n"
          ],
          "name": "stdout"
        }
      ]
    },
    {
      "cell_type": "code",
      "metadata": {
        "id": "zcBsK31Ia8uB",
        "colab_type": "code",
        "colab": {
          "base_uri": "https://localhost:8080/",
          "height": 51
        },
        "outputId": "765ff962-c4cd-40bc-f616-e95d2492cc5e"
      },
      "source": [
        "print(sorted(df['tpep_pickup_datetime'].dt.month.unique()))\n",
        "print(sorted(df['tpep_dropoff_datetime'].dt.month.unique()))"
      ],
      "execution_count": null,
      "outputs": [
        {
          "output_type": "stream",
          "text": [
            "[1, 3, 6, 10, 11, 12]\n",
            "[1, 3, 4, 6, 7, 10, 11, 12]\n"
          ],
          "name": "stdout"
        }
      ]
    },
    {
      "cell_type": "code",
      "metadata": {
        "id": "7y9yLXrdbBPx",
        "colab_type": "code",
        "colab": {
          "base_uri": "https://localhost:8080/",
          "height": 51
        },
        "outputId": "bf0fcf0f-fec7-4028-cdf2-bbb8ef7101ab"
      },
      "source": [
        "print(sorted(df['tpep_pickup_datetime'].dt.day.unique()))\n",
        "print(sorted(df['tpep_dropoff_datetime'].dt.day.unique()))"
      ],
      "execution_count": null,
      "outputs": [
        {
          "output_type": "stream",
          "text": [
            "[1, 2, 3, 4, 5, 6, 7, 8, 9, 10, 11, 12, 13, 14, 15, 16, 17, 18, 19, 20, 21, 22, 23, 24, 25, 26, 27, 28, 29, 30, 31]\n",
            "[1, 2, 3, 4, 5, 6, 7, 8, 9, 10, 11, 12, 13, 14, 15, 16, 17, 18, 19, 20, 21, 22, 23, 24, 25, 26, 27, 28, 29, 30, 31]\n"
          ],
          "name": "stdout"
        }
      ]
    },
    {
      "cell_type": "markdown",
      "metadata": {
        "id": "9x8TnYQscedi",
        "colab_type": "text"
      },
      "source": [
        "We will remove the rows with ilogical years and months. \n",
        "\n",
        "First, how many \"wrong\" years there are, to check that there is no systematic error:"
      ]
    },
    {
      "cell_type": "code",
      "metadata": {
        "id": "2YDZ02bycphB",
        "colab_type": "code",
        "colab": {
          "base_uri": "https://localhost:8080/",
          "height": 34
        },
        "outputId": "072fc797-824d-4659-c3b8-ba838d9b12ea"
      },
      "source": [
        "df[(df['tpep_pickup_datetime'].dt.year == 2008) | (df['tpep_pickup_datetime'].dt.year == 2009) | (df['tpep_dropoff_datetime'].dt.year == 2008) | (df['tpep_dropoff_datetime'].dt.year == 2009)].shape[0]"
      ],
      "execution_count": null,
      "outputs": [
        {
          "output_type": "execute_result",
          "data": {
            "text/plain": [
              "15"
            ]
          },
          "metadata": {
            "tags": []
          },
          "execution_count": 57
        }
      ]
    },
    {
      "cell_type": "markdown",
      "metadata": {
        "id": "grHo1nI_nCat",
        "colab_type": "text"
      },
      "source": [
        "Remove those years:"
      ]
    },
    {
      "cell_type": "code",
      "metadata": {
        "id": "_tqGIdbinD5q",
        "colab_type": "code",
        "colab": {}
      },
      "source": [
        "df = df[(df['tpep_pickup_datetime'].dt.year == 2017) | (df['tpep_dropoff_datetime'].dt.year == 2017)]"
      ],
      "execution_count": null,
      "outputs": []
    },
    {
      "cell_type": "markdown",
      "metadata": {
        "id": "WqJilVQ3fNTd",
        "colab_type": "text"
      },
      "source": [
        "For the months, note that we do not count April, July and December for the **tpep_dropoff_datetime**, since there could be trips starting close to midnight of the last days of the month:"
      ]
    },
    {
      "cell_type": "code",
      "metadata": {
        "id": "-bNBem3IJP-e",
        "colab_type": "code",
        "colab": {
          "base_uri": "https://localhost:8080/",
          "height": 34
        },
        "outputId": "eaa9a013-95e3-488e-916b-b17394f51b6c"
      },
      "source": [
        "df[(df['tpep_pickup_datetime'].dt.month == 1) | (df['tpep_pickup_datetime'].dt.month == 10) | (df['tpep_pickup_datetime'].dt.month == 12) | (df['tpep_dropoff_datetime'].dt.month == 1) | (df['tpep_dropoff_datetime'].dt.month == 10)].shape[0]"
      ],
      "execution_count": null,
      "outputs": [
        {
          "output_type": "execute_result",
          "data": {
            "text/plain": [
              "200"
            ]
          },
          "metadata": {
            "tags": []
          },
          "execution_count": 59
        }
      ]
    },
    {
      "cell_type": "markdown",
      "metadata": {
        "id": "zyz3fWQimXFs",
        "colab_type": "text"
      },
      "source": [
        "Keep our 3 months (March, June, November) and the corresponding following ones (April, July, December):"
      ]
    },
    {
      "cell_type": "code",
      "metadata": {
        "id": "SLq9ocdokJ7Z",
        "colab_type": "code",
        "colab": {}
      },
      "source": [
        "df = df[(df['tpep_pickup_datetime'].dt.month == 3) | (df['tpep_dropoff_datetime'].dt.month == 4) | (df['tpep_pickup_datetime'].dt.month == 6) | (df['tpep_dropoff_datetime'].dt.month == 7) | (df['tpep_pickup_datetime'].dt.month == 11) | (df['tpep_dropoff_datetime'].dt.month == 12)]"
      ],
      "execution_count": null,
      "outputs": []
    },
    {
      "cell_type": "markdown",
      "metadata": {
        "id": "1oaY68mDjBGM",
        "colab_type": "text"
      },
      "source": [
        "June 30th, 2017 was actually Friday, so there could be people going out at 23h and arriving after midnight, for example (2254 trips starting at 23h and finishing after midnight, indeed):"
      ]
    },
    {
      "cell_type": "code",
      "metadata": {
        "id": "ktzed2c5h3SO",
        "colab_type": "code",
        "colab": {
          "base_uri": "https://localhost:8080/",
          "height": 34
        },
        "outputId": "4eef953e-e95a-40ba-b7ce-9fa5a84b4ff2"
      },
      "source": [
        "df.loc[(df['tpep_pickup_datetime'].dt.year == 2017) & (df['tpep_pickup_datetime'].dt.month == 6) & (df['tpep_pickup_datetime'].dt.day == 30) & (df['tpep_pickup_datetime'].dt.hour == 23) & (df['tpep_dropoff_datetime'].dt.month == 7)].shape[0]"
      ],
      "execution_count": null,
      "outputs": [
        {
          "output_type": "execute_result",
          "data": {
            "text/plain": [
              "2254"
            ]
          },
          "metadata": {
            "tags": []
          },
          "execution_count": 61
        }
      ]
    },
    {
      "cell_type": "markdown",
      "metadata": {
        "id": "HHEA8WqQqUL-",
        "colab_type": "text"
      },
      "source": [
        "**Calculate the trip duration in minutes**"
      ]
    },
    {
      "cell_type": "code",
      "metadata": {
        "id": "DgfVu_rainKP",
        "colab_type": "code",
        "colab": {}
      },
      "source": [
        "df['trip_time'] = (df['tpep_dropoff_datetime'] - df['tpep_pickup_datetime']).dt.total_seconds() / 60"
      ],
      "execution_count": null,
      "outputs": []
    },
    {
      "cell_type": "code",
      "metadata": {
        "id": "IfF6XdsGinIL",
        "colab_type": "code",
        "colab": {
          "base_uri": "https://localhost:8080/",
          "height": 170
        },
        "outputId": "c61ecc14-6f9d-49e2-9ff6-35b63b76446e"
      },
      "source": [
        "df['trip_time'].describe()"
      ],
      "execution_count": null,
      "outputs": [
        {
          "output_type": "execute_result",
          "data": {
            "text/plain": [
              "count    1.972819e+07\n",
              "mean     1.720205e+01\n",
              "std      5.390592e+01\n",
              "min     -4.280283e+03\n",
              "25%      7.150000e+00\n",
              "50%      1.183333e+01\n",
              "75%      1.933333e+01\n",
              "max      1.440765e+04\n",
              "Name: trip_time, dtype: float64"
            ]
          },
          "metadata": {
            "tags": []
          },
          "execution_count": 63
        }
      ]
    },
    {
      "cell_type": "code",
      "metadata": {
        "id": "Kb_NvBAukzX1",
        "colab_type": "code",
        "colab": {
          "base_uri": "https://localhost:8080/",
          "height": 297
        },
        "outputId": "cb273be3-fe4c-454e-8453-2f7d9d23d62c"
      },
      "source": [
        "sns.distplot(df['trip_time'])"
      ],
      "execution_count": null,
      "outputs": [
        {
          "output_type": "execute_result",
          "data": {
            "text/plain": [
              "<matplotlib.axes._subplots.AxesSubplot at 0x7f631cf565c0>"
            ]
          },
          "metadata": {
            "tags": []
          },
          "execution_count": 64
        },
        {
          "output_type": "display_data",
          "data": {
            "image/png": "[encoded data removed]",
            "text/plain": [
              "<Figure size 432x288 with 1 Axes>"
            ]
          },
          "metadata": {
            "tags": [],
            "needs_background": "light"
          }
        }
      ]
    },
    {
      "cell_type": "code",
      "metadata": {
        "id": "7605wHiAncNH",
        "colab_type": "code",
        "colab": {
          "base_uri": "https://localhost:8080/",
          "height": 68
        },
        "outputId": "4e204ca0-61c9-4760-bc80-cc0ac1414758"
      },
      "source": [
        "print('Nr of zeros:', df[df['trip_time'] == 0].shape[0])\n",
        "print('Nr of lower than zero:', df[df['trip_time'] < 0].shape[0])\n",
        "print('Nrs larger than 6h:', df[df['trip_time'] > 360].shape[0]) "
      ],
      "execution_count": null,
      "outputs": [
        {
          "output_type": "stream",
          "text": [
            "Nr of zeros: 520\n",
            "Nr of lower than zero: 1025\n",
            "Nrs larger than 6h: 28854\n"
          ],
          "name": "stdout"
        }
      ]
    },
    {
      "cell_type": "code",
      "metadata": {
        "id": "PECyYrGBtOXl",
        "colab_type": "code",
        "colab": {
          "base_uri": "https://localhost:8080/",
          "height": 286
        },
        "outputId": "e0621692-a5ba-46c2-b3ff-43853de2658d"
      },
      "source": [
        "df[df['trip_time'] < 0].tail(7)"
      ],
      "execution_count": null,
      "outputs": [
        {
          "output_type": "execute_result",
          "data": {
            "text/html": [
              "<div>\n",
              "<style scoped>\n",
              "    .dataframe tbody tr th:only-of-type {\n",
              "        vertical-align: middle;\n",
              "    }\n",
              "\n",
              "    .dataframe tbody tr th {\n",
              "        vertical-align: top;\n",
              "    }\n",
              "\n",
              "    .dataframe thead th {\n",
              "        text-align: right;\n",
              "    }\n",
              "</style>\n",
              "<table border=\"1\" class=\"dataframe\">\n",
              "  <thead>\n",
              "    <tr style=\"text-align: right;\">\n",
              "      <th></th>\n",
              "      <th>VendorID</th>\n",
              "      <th>tpep_pickup_datetime</th>\n",
              "      <th>tpep_dropoff_datetime</th>\n",
              "      <th>passenger_count</th>\n",
              "      <th>trip_distance</th>\n",
              "      <th>RatecodeID</th>\n",
              "      <th>store_and_fwd_flag</th>\n",
              "      <th>PULocationID</th>\n",
              "      <th>DOLocationID</th>\n",
              "      <th>fare_amount</th>\n",
              "      <th>extra</th>\n",
              "      <th>tip_amount</th>\n",
              "      <th>tolls_amount</th>\n",
              "      <th>improvement_surcharge</th>\n",
              "      <th>total_amount</th>\n",
              "      <th>trip_time</th>\n",
              "    </tr>\n",
              "  </thead>\n",
              "  <tbody>\n",
              "    <tr>\n",
              "      <th>1412692</th>\n",
              "      <td>1</td>\n",
              "      <td>2017-11-05 01:58:08</td>\n",
              "      <td>2017-11-05 01:08:39</td>\n",
              "      <td>1</td>\n",
              "      <td>2.7</td>\n",
              "      <td>1</td>\n",
              "      <td>1</td>\n",
              "      <td>68</td>\n",
              "      <td>13</td>\n",
              "      <td>10.5</td>\n",
              "      <td>0.5</td>\n",
              "      <td>2.35</td>\n",
              "      <td>0.0</td>\n",
              "      <td>0.3</td>\n",
              "      <td>14.15</td>\n",
              "      <td>-49.483333</td>\n",
              "    </tr>\n",
              "    <tr>\n",
              "      <th>1412698</th>\n",
              "      <td>1</td>\n",
              "      <td>2017-11-05 01:52:20</td>\n",
              "      <td>2017-11-05 01:01:57</td>\n",
              "      <td>4</td>\n",
              "      <td>1.6</td>\n",
              "      <td>1</td>\n",
              "      <td>1</td>\n",
              "      <td>249</td>\n",
              "      <td>231</td>\n",
              "      <td>8.5</td>\n",
              "      <td>0.5</td>\n",
              "      <td>1.95</td>\n",
              "      <td>0.0</td>\n",
              "      <td>0.3</td>\n",
              "      <td>11.75</td>\n",
              "      <td>-50.383333</td>\n",
              "    </tr>\n",
              "    <tr>\n",
              "      <th>1412722</th>\n",
              "      <td>1</td>\n",
              "      <td>2017-11-05 01:50:31</td>\n",
              "      <td>2017-11-05 01:23:23</td>\n",
              "      <td>2</td>\n",
              "      <td>7.1</td>\n",
              "      <td>1</td>\n",
              "      <td>1</td>\n",
              "      <td>162</td>\n",
              "      <td>33</td>\n",
              "      <td>26.5</td>\n",
              "      <td>0.5</td>\n",
              "      <td>5.55</td>\n",
              "      <td>0.0</td>\n",
              "      <td>0.3</td>\n",
              "      <td>33.35</td>\n",
              "      <td>-27.133333</td>\n",
              "    </tr>\n",
              "    <tr>\n",
              "      <th>1412740</th>\n",
              "      <td>1</td>\n",
              "      <td>2017-11-05 01:44:10</td>\n",
              "      <td>2017-11-05 01:06:07</td>\n",
              "      <td>1</td>\n",
              "      <td>1.8</td>\n",
              "      <td>1</td>\n",
              "      <td>1</td>\n",
              "      <td>107</td>\n",
              "      <td>148</td>\n",
              "      <td>14.5</td>\n",
              "      <td>0.5</td>\n",
              "      <td>1.00</td>\n",
              "      <td>0.0</td>\n",
              "      <td>0.3</td>\n",
              "      <td>16.80</td>\n",
              "      <td>-38.050000</td>\n",
              "    </tr>\n",
              "    <tr>\n",
              "      <th>1412749</th>\n",
              "      <td>1</td>\n",
              "      <td>2017-11-05 01:46:29</td>\n",
              "      <td>2017-11-05 01:02:02</td>\n",
              "      <td>1</td>\n",
              "      <td>1.2</td>\n",
              "      <td>1</td>\n",
              "      <td>1</td>\n",
              "      <td>79</td>\n",
              "      <td>232</td>\n",
              "      <td>10.5</td>\n",
              "      <td>0.5</td>\n",
              "      <td>3.50</td>\n",
              "      <td>0.0</td>\n",
              "      <td>0.3</td>\n",
              "      <td>15.30</td>\n",
              "      <td>-44.450000</td>\n",
              "    </tr>\n",
              "    <tr>\n",
              "      <th>1412785</th>\n",
              "      <td>1</td>\n",
              "      <td>2017-11-05 01:55:13</td>\n",
              "      <td>2017-11-05 01:02:30</td>\n",
              "      <td>1</td>\n",
              "      <td>1.1</td>\n",
              "      <td>1</td>\n",
              "      <td>1</td>\n",
              "      <td>68</td>\n",
              "      <td>246</td>\n",
              "      <td>7.0</td>\n",
              "      <td>0.5</td>\n",
              "      <td>1.65</td>\n",
              "      <td>0.0</td>\n",
              "      <td>0.3</td>\n",
              "      <td>9.95</td>\n",
              "      <td>-52.716667</td>\n",
              "    </tr>\n",
              "    <tr>\n",
              "      <th>1412871</th>\n",
              "      <td>1</td>\n",
              "      <td>2017-11-05 01:41:45</td>\n",
              "      <td>2017-11-05 01:03:47</td>\n",
              "      <td>4</td>\n",
              "      <td>3.5</td>\n",
              "      <td>1</td>\n",
              "      <td>1</td>\n",
              "      <td>231</td>\n",
              "      <td>170</td>\n",
              "      <td>16.0</td>\n",
              "      <td>0.0</td>\n",
              "      <td>1.50</td>\n",
              "      <td>0.0</td>\n",
              "      <td>0.3</td>\n",
              "      <td>18.30</td>\n",
              "      <td>-37.966667</td>\n",
              "    </tr>\n",
              "  </tbody>\n",
              "</table>\n",
              "</div>"
            ],
            "text/plain": [
              "         VendorID tpep_pickup_datetime  ... total_amount  trip_time\n",
              "1412692         1  2017-11-05 01:58:08  ...        14.15 -49.483333\n",
              "1412698         1  2017-11-05 01:52:20  ...        11.75 -50.383333\n",
              "1412722         1  2017-11-05 01:50:31  ...        33.35 -27.133333\n",
              "1412740         1  2017-11-05 01:44:10  ...        16.80 -38.050000\n",
              "1412749         1  2017-11-05 01:46:29  ...        15.30 -44.450000\n",
              "1412785         1  2017-11-05 01:55:13  ...         9.95 -52.716667\n",
              "1412871         1  2017-11-05 01:41:45  ...        18.30 -37.966667\n",
              "\n",
              "[7 rows x 16 columns]"
            ]
          },
          "metadata": {
            "tags": []
          },
          "execution_count": 66
        }
      ]
    },
    {
      "cell_type": "markdown",
      "metadata": {
        "id": "WyDZedtGt41c",
        "colab_type": "text"
      },
      "source": [
        "Negative trip times appear on November 5th, which is actually when clocks go backward an hour at 2am to 3am. This presumably affects also on March 12th in the opposite sense. This could be corrected by adding/subtracting 1 h for the trip time and hours, but as we will reduce considerably the sample for the model (currently accounting for more than 19 million rows), there is no pain to remove them all."
      ]
    },
    {
      "cell_type": "markdown",
      "metadata": {
        "id": "3sTQ7XnYsPoc",
        "colab_type": "text"
      },
      "source": [
        "The zero and negative values are not even the 0.01%."
      ]
    },
    {
      "cell_type": "code",
      "metadata": {
        "id": "TSzZsSL5r3_2",
        "colab_type": "code",
        "colab": {
          "base_uri": "https://localhost:8080/",
          "height": 34
        },
        "outputId": "45e5bd27-447b-4f66-ae39-86c751ec8935"
      },
      "source": [
        "(df[df['trip_time'] == 0].shape[0] + df[df['trip_time'] < 0].shape[0])*100/ df.shape[0]"
      ],
      "execution_count": null,
      "outputs": [
        {
          "output_type": "execute_result",
          "data": {
            "text/plain": [
              "0.00783143150356287"
            ]
          },
          "metadata": {
            "tags": []
          },
          "execution_count": 68
        }
      ]
    },
    {
      "cell_type": "code",
      "metadata": {
        "id": "uuC5ly9X0qRw",
        "colab_type": "code",
        "colab": {}
      },
      "source": [
        "df = df[df['trip_time'] > 0]"
      ],
      "execution_count": null,
      "outputs": []
    },
    {
      "cell_type": "markdown",
      "metadata": {
        "id": "kNC-3ujKwNnx",
        "colab_type": "text"
      },
      "source": [
        "Very large values corresponding to the equivalent of 24h might be related to an error, in which the pick-up and drop-off times are interchanged and close to midnight. Trips longer than 6 hours represent the 0.15%. It is already large enough as to consider it as exceptional, so we remove longer trips than 6h (360 minutes)."
      ]
    },
    {
      "cell_type": "code",
      "metadata": {
        "id": "-Abqb3AjyO_Y",
        "colab_type": "code",
        "colab": {
          "base_uri": "https://localhost:8080/",
          "height": 34
        },
        "outputId": "1ec6eec4-730b-4d82-920c-a447a115d6b7"
      },
      "source": [
        "(df[df['trip_time'] > 360].shape[0])*100/ df.shape[0]"
      ],
      "execution_count": null,
      "outputs": [
        {
          "output_type": "execute_result",
          "data": {
            "text/plain": [
              "0.14626914079527648"
            ]
          },
          "metadata": {
            "tags": []
          },
          "execution_count": 73
        }
      ]
    },
    {
      "cell_type": "code",
      "metadata": {
        "id": "voNXjux23H-C",
        "colab_type": "code",
        "colab": {}
      },
      "source": [
        "df = df[df['trip_time'] < 360]"
      ],
      "execution_count": null,
      "outputs": []
    },
    {
      "cell_type": "markdown",
      "metadata": {
        "id": "k4ek1Je9Bj6T",
        "colab_type": "text"
      },
      "source": [
        "The distribution is still skewed:"
      ]
    },
    {
      "cell_type": "code",
      "metadata": {
        "id": "Hdlra3AN3sDD",
        "colab_type": "code",
        "colab": {
          "base_uri": "https://localhost:8080/",
          "height": 297
        },
        "outputId": "d45d3040-4130-491a-f8a2-7b758c113353"
      },
      "source": [
        "sns.distplot(df['trip_time'])"
      ],
      "execution_count": null,
      "outputs": [
        {
          "output_type": "execute_result",
          "data": {
            "text/plain": [
              "<matplotlib.axes._subplots.AxesSubplot at 0x7f631d0eb828>"
            ]
          },
          "metadata": {
            "tags": []
          },
          "execution_count": 76
        },
        {
          "output_type": "display_data",
          "data": {
            "image/png": "[encoded data removed]",
            "text/plain": [
              "<Figure size 432x288 with 1 Axes>"
            ]
          },
          "metadata": {
            "tags": [],
            "needs_background": "light"
          }
        }
      ]
    },
    {
      "cell_type": "markdown",
      "metadata": {
        "id": "RDP-6BqRyReH",
        "colab_type": "text"
      },
      "source": [
        "* **tip_amount** and **total_amount**: For the tips we will be straightforward and remove the negative and extreme values to later dispose of a less biased data set."
      ]
    },
    {
      "cell_type": "code",
      "metadata": {
        "id": "aNKWYD3A5qzc",
        "colab_type": "code",
        "colab": {}
      },
      "source": [
        "df = df[df['tip_amount'] > 0]"
      ],
      "execution_count": null,
      "outputs": []
    },
    {
      "cell_type": "code",
      "metadata": {
        "id": "QIwuGL-P8OPF",
        "colab_type": "code",
        "colab": {}
      },
      "source": [
        "df = df[df['tip_amount'] < df['tip_amount'].quantile(0.9999)]"
      ],
      "execution_count": null,
      "outputs": []
    },
    {
      "cell_type": "code",
      "metadata": {
        "id": "Rh1UQ55Q5PBY",
        "colab_type": "code",
        "colab": {
          "base_uri": "https://localhost:8080/",
          "height": 297
        },
        "outputId": "c0a300bb-fd95-4b2c-ca18-6a9dd473a98e"
      },
      "source": [
        "sns.distplot(df['tip_amount'])"
      ],
      "execution_count": null,
      "outputs": [
        {
          "output_type": "execute_result",
          "data": {
            "text/plain": [
              "<matplotlib.axes._subplots.AxesSubplot at 0x7f631a9d55f8>"
            ]
          },
          "metadata": {
            "tags": []
          },
          "execution_count": 80
        },
        {
          "output_type": "display_data",
          "data": {
            "image/png": "[encoded data removed]",
            "text/plain": [
              "<Figure size 432x288 with 1 Axes>"
            ]
          },
          "metadata": {
            "tags": [],
            "needs_background": "light"
          }
        }
      ]
    },
    {
      "cell_type": "markdown",
      "metadata": {
        "id": "mVwgr4uy96p_",
        "colab_type": "text"
      },
      "source": [
        "For the total amount, the same criteria will be used."
      ]
    },
    {
      "cell_type": "code",
      "metadata": {
        "id": "1LNJ0iL26Hd0",
        "colab_type": "code",
        "colab": {
          "base_uri": "https://localhost:8080/",
          "height": 170
        },
        "outputId": "4af2514c-cb75-4e92-a628-697de25e992f"
      },
      "source": [
        "df['total_amount'].describe()"
      ],
      "execution_count": null,
      "outputs": [
        {
          "output_type": "execute_result",
          "data": {
            "text/plain": [
              "count    1.889122e+07\n",
              "mean     1.771797e+01\n",
              "std      1.424892e+01\n",
              "min      6.900000e-01\n",
              "25%      9.360000e+00\n",
              "50%      1.296000e+01\n",
              "75%      1.955000e+01\n",
              "max      2.041600e+02\n",
              "Name: total_amount, dtype: float64"
            ]
          },
          "metadata": {
            "tags": []
          },
          "execution_count": 82
        }
      ]
    },
    {
      "cell_type": "code",
      "metadata": {
        "id": "GSb12f03JPvZ",
        "colab_type": "code",
        "colab": {}
      },
      "source": [
        "df = df[df['total_amount'] < df['total_amount'].quantile(0.9999)]"
      ],
      "execution_count": null,
      "outputs": []
    },
    {
      "cell_type": "code",
      "metadata": {
        "id": "-Qj46SyK9FNe",
        "colab_type": "code",
        "colab": {
          "base_uri": "https://localhost:8080/",
          "height": 297
        },
        "outputId": "16aeb205-59d2-49b3-8214-65b9552d46e5"
      },
      "source": [
        "sns.distplot(df['total_amount'])"
      ],
      "execution_count": null,
      "outputs": [
        {
          "output_type": "execute_result",
          "data": {
            "text/plain": [
              "<matplotlib.axes._subplots.AxesSubplot at 0x7f631a8d7ef0>"
            ]
          },
          "metadata": {
            "tags": []
          },
          "execution_count": 84
        },
        {
          "output_type": "display_data",
          "data": {
            "image/png": "[encoded data removed]",
            "text/plain": [
              "<Figure size 432x288 with 1 Axes>"
            ]
          },
          "metadata": {
            "tags": [],
            "needs_background": "light"
          }
        }
      ]
    },
    {
      "cell_type": "code",
      "metadata": {
        "id": "yd896cZS9FP9",
        "colab_type": "code",
        "colab": {
          "base_uri": "https://localhost:8080/",
          "height": 408
        },
        "outputId": "24169b5e-8fee-481f-8ed4-14a4fd8e4b88"
      },
      "source": [
        "df.info(memory_usage='deep')"
      ],
      "execution_count": null,
      "outputs": [
        {
          "output_type": "stream",
          "text": [
            "<class 'pandas.core.frame.DataFrame'>\n",
            "Int64Index: 18889335 entries, 0 to 9284802\n",
            "Data columns (total 16 columns):\n",
            " #   Column                 Dtype         \n",
            "---  ------                 -----         \n",
            " 0   VendorID               int64         \n",
            " 1   tpep_pickup_datetime   datetime64[ns]\n",
            " 2   tpep_dropoff_datetime  datetime64[ns]\n",
            " 3   passenger_count        int64         \n",
            " 4   trip_distance          float64       \n",
            " 5   RatecodeID             int64         \n",
            " 6   store_and_fwd_flag     int64         \n",
            " 7   PULocationID           int64         \n",
            " 8   DOLocationID           int64         \n",
            " 9   fare_amount            float64       \n",
            " 10  extra                  float64       \n",
            " 11  tip_amount             float64       \n",
            " 12  tolls_amount           float64       \n",
            " 13  improvement_surcharge  float64       \n",
            " 14  total_amount           float64       \n",
            " 15  trip_time              float64       \n",
            "dtypes: datetime64[ns](2), float64(8), int64(6)\n",
            "memory usage: 2.4 GB\n"
          ],
          "name": "stdout"
        }
      ]
    },
    {
      "cell_type": "code",
      "metadata": {
        "id": "fwICZRz2_aOu",
        "colab_type": "code",
        "colab": {}
      },
      "source": [
        "df.to_csv('YellowTaxi_Mar-Jun-Nov2017.csv', index=False)"
      ],
      "execution_count": null,
      "outputs": []
    },
    {
      "cell_type": "markdown",
      "metadata": {
        "id": "OFZgb0rDQlat",
        "colab_type": "text"
      },
      "source": [
        "In this first cleaning step, we have removed rows with corrupt values, outliers, and other suspicious information that could introduce biases in the future model. Some assumptions have been done, such as removing trips longer than 6h. The training will probably be reduced to build the models faster, since we still have almost 19 million rows."
      ]
    },
    {
      "cell_type": "markdown",
      "metadata": {
        "id": "Zjfzqr58a-kk",
        "colab_type": "text"
      },
      "source": [
        "\n",
        "\n",
        "---\n",
        "\n"
      ]
    }
  ]
}